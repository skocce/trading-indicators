{
 "cells": [
  {
   "cell_type": "code",
   "execution_count": null,
   "id": "5efcba29-df61-4ae8-a808-b1316e6d4aeb",
   "metadata": {},
   "outputs": [
    {
     "name": "stderr",
     "output_type": "stream",
     "text": [
      "[nltk_data] Downloading package vader_lexicon to\n",
      "[nltk_data]     /Users/skd/nltk_data...\n",
      "[nltk_data]   Package vader_lexicon is already up-to-date!\n",
      "[*********************100%%**********************]  1 of 1 completed\n"
     ]
    },
    {
     "name": "stdout",
     "output_type": "stream",
     "text": [
      "MMM - Sentiment: [0.], Momentum: [ 0.0003632  -0.03973589  0.02896604 ...  0.00582738  0.00873644\n",
      " -0.00337312]\n"
     ]
    },
    {
     "name": "stderr",
     "output_type": "stream",
     "text": [
      "[*********************100%%**********************]  1 of 1 completed\n"
     ]
    },
    {
     "name": "stdout",
     "output_type": "stream",
     "text": [
      "AOS - Sentiment: [0.], Momentum: [ 0.00080645 -0.01440945 -0.00292419 ...  0.0037875   0.00097365\n",
      "  0.00243194]\n"
     ]
    },
    {
     "name": "stderr",
     "output_type": "stream",
     "text": [
      "[*********************100%%**********************]  1 of 1 completed\n"
     ]
    },
    {
     "name": "stdout",
     "output_type": "stream",
     "text": [
      "AES - Sentiment: [0.], Momentum: [ 0.00046318 -0.03965575  0.01077246 ... -0.00413229  0.0036307\n",
      " -0.00516793]\n"
     ]
    },
    {
     "name": "stderr",
     "output_type": "stream",
     "text": [
      "[*********************100%%**********************]  1 of 1 completed\n"
     ]
    },
    {
     "name": "stdout",
     "output_type": "stream",
     "text": [
      "APA - Sentiment: [0.], Momentum: [ 0.00064564 -0.04395663  0.02873634 ... -0.00321803 -0.02878671\n",
      " -0.0060941 ]\n"
     ]
    },
    {
     "name": "stderr",
     "output_type": "stream",
     "text": [
      "[*********************100%%**********************]  1 of 1 completed\n",
      "[*********************100%%**********************]  1 of 1 completed"
     ]
    },
    {
     "name": "stdout",
     "output_type": "stream",
     "text": [
      "T - Sentiment: [0.], Momentum: [ 0.00027721 -0.05851021  0.01553614 ...  0.00060353  0.00965022\n",
      "  0.0023895 ]\n"
     ]
    },
    {
     "name": "stderr",
     "output_type": "stream",
     "text": [
      "\n"
     ]
    },
    {
     "name": "stdout",
     "output_type": "stream",
     "text": [
      "ABBV - Sentiment: [0.], Momentum: [ 0.00083999 -0.00825726 -0.01263282 ...  0.00168153 -0.00083935\n",
      "  0.0014216 ]\n"
     ]
    },
    {
     "name": "stderr",
     "output_type": "stream",
     "text": [
      "[*********************100%%**********************]  1 of 1 completed\n"
     ]
    },
    {
     "name": "stdout",
     "output_type": "stream",
     "text": [
      "ABT - Sentiment: [0.], Momentum: [ 0.00053003 -0.02857102 -0.00183886 ...  0.00512677  0.00555609\n",
      " -0.00298914]\n"
     ]
    },
    {
     "name": "stderr",
     "output_type": "stream",
     "text": [
      "[*********************100%%**********************]  1 of 1 completed\n"
     ]
    },
    {
     "name": "stdout",
     "output_type": "stream",
     "text": [
      "ACN - Sentiment: [0.], Momentum: [ 0.00079146 -0.0105472  -0.0006665  ...  0.00110347 -0.00630266\n",
      " -0.00193406]\n"
     ]
    },
    {
     "name": "stderr",
     "output_type": "stream",
     "text": [
      "[*********************100%%**********************]  1 of 1 completed\n",
      "[*********************100%%**********************]  1 of 1 completed"
     ]
    },
    {
     "name": "stdout",
     "output_type": "stream",
     "text": [
      "ADBE - Sentiment: [0.], Momentum: [ 0.00095969 -0.08388968  0.01977096 ... -0.00364389 -0.00093947\n",
      "  0.00181347]\n"
     ]
    },
    {
     "name": "stderr",
     "output_type": "stream",
     "text": [
      "\n"
     ]
    },
    {
     "name": "stdout",
     "output_type": "stream",
     "text": [
      "AMD - Sentiment: [0.], Momentum: [ 0.00113601 -0.05645161  0.02564103 ...  0.01854824  0.01841574\n",
      " -0.00907496]\n"
     ]
    },
    {
     "name": "stderr",
     "output_type": "stream",
     "text": [
      "[*********************100%%**********************]  1 of 1 completed\n"
     ]
    },
    {
     "name": "stdout",
     "output_type": "stream",
     "text": [
      "AFL - Sentiment: [0.], Momentum: [ 0.00066286 -0.02653607 -0.00573941 ...  0.00232503  0.00244168\n",
      "  0.00474972]\n"
     ]
    },
    {
     "name": "stderr",
     "output_type": "stream",
     "text": [
      "[*********************100%%**********************]  1 of 1 completed\n"
     ]
    },
    {
     "name": "stdout",
     "output_type": "stream",
     "text": [
      "A - Sentiment: [0.], Momentum: [ 5.25454068e-04 -7.63888355e-02 -6.20304065e-02 ...  7.16072616e-05\n",
      " -3.57573407e-04 -3.61211618e-03]\n"
     ]
    },
    {
     "name": "stderr",
     "output_type": "stream",
     "text": [
      "[*********************100%%**********************]  1 of 1 completed\n",
      "[*********************100%%**********************]  1 of 1 completed\n"
     ]
    },
    {
     "name": "stdout",
     "output_type": "stream",
     "text": [
      "APD - Sentiment: [0.], Momentum: [ 0.00061026 -0.03047535  0.00589363 ...  0.00298331 -0.00529581\n",
      "  0.00484431]\n",
      "ABNB - Sentiment: [0.], Momentum: [ 4.78261739e-04 -3.77306783e-02 -6.64272890e-02 -3.99999765e-02\n",
      "  1.05689120e-01  6.56569114e-02  6.97041808e-02  3.63636434e-02\n",
      "  1.04280557e-03 -3.17421892e-02 -2.00620105e-02 -3.77163296e-02\n",
      "  6.71140940e-03 -1.04667155e-02 -1.09815381e-02 -5.21117779e-02\n",
      "  6.57564467e-02 -3.72892695e-02  5.95363154e-02 -9.91604388e-03\n",
      " -1.09501191e-02  8.55329626e-02  5.71517554e-02  6.18271320e-02\n",
      " -6.22160428e-02  2.61121171e-02 -6.82825750e-02  1.14749996e-01\n",
      "  8.14856580e-03 -2.38631795e-02  8.56756989e-02  4.41527149e-02\n",
      " -6.89689684e-02 -1.99604544e-02 -1.73719020e-02 -7.03837428e-03\n",
      "  3.65574768e-02  5.42752626e-02 -2.50258164e-03  2.62147109e-02\n",
      " -2.74403938e-03  5.89353537e-02  2.44731767e-02 -1.91846695e-02\n",
      " -1.32593199e-02 -3.76441145e-02 -1.94098500e-02  1.53000108e-02\n",
      " -2.84975918e-02 -3.96744146e-02  6.72210718e-02 -9.06093889e-02\n",
      "  1.33417603e-01 -4.81221596e-02 -3.31941978e-02 -5.00263313e-02\n",
      " -9.42340215e-04 -2.33034555e-03  5.56142603e-03  1.27205524e-02\n",
      "  3.71357476e-03  7.66091863e-02  4.48274655e-02  1.57202279e-02\n",
      " -4.75261237e-02  6.74969322e-03 -4.92153538e-02  1.53565029e-02\n",
      "  3.13802465e-03 -4.03076954e-02 -4.42983505e-02 -1.50405499e-02\n",
      " -9.99097258e-03  4.64449908e-02  3.28770468e-03  2.64336219e-02\n",
      "  1.59627034e-03 -8.23418512e-03  1.78906010e-02 -5.30968605e-02\n",
      "  1.33372364e-03 -3.77396328e-03 -1.67687716e-02  8.27237469e-03\n",
      " -8.54174936e-03 -6.12133207e-03  1.90475975e-02 -2.30007306e-02\n",
      " -2.86974135e-02 -1.47431733e-02  2.17872702e-02  2.07368821e-02\n",
      "  3.61552300e-03  1.74976983e-02  1.15769222e-02 -1.28889296e-02\n",
      " -2.79715565e-02 -2.66342767e-02  4.69926407e-03 -3.88987111e-02\n",
      " -5.35329412e-02 -1.58161461e-02 -2.96277415e-02 -2.72609563e-02\n",
      " -1.73754347e-02 -3.20855615e-02  4.01473072e-02 -6.16147106e-02\n",
      "  1.90189002e-02  2.34779890e-02 -1.44005026e-02 -1.09397230e-02\n",
      "  8.90800155e-03 -1.41269820e-02  5.67202385e-03  6.24860718e-02\n",
      " -1.93476588e-02  2.78490301e-02  4.63585514e-02 -4.50993216e-02\n",
      "  4.53567735e-02 -1.16764715e-02 -1.31570564e-02 -1.46927997e-02\n",
      "  8.76761450e-03  1.58774117e-02  5.18730975e-03  1.72239927e-02\n",
      " -1.73277435e-02  1.03922435e-02  1.20770230e-02 -1.84894259e-02\n",
      " -1.33629077e-04  1.26938084e-02 -5.60764015e-03 -7.03242612e-03\n",
      "  1.80399730e-03 -2.57436344e-02  4.83296650e-02 -3.91782414e-04\n",
      " -1.86177559e-02 -1.23810202e-02 -3.13405274e-02 -8.28000578e-03\n",
      "  4.98842396e-02 -1.97139599e-02 -2.23600704e-02 -3.01234727e-02\n",
      " -1.14314212e-02 -2.32000178e-02 -1.80924184e-02  3.19228943e-02\n",
      "  2.32199555e-02  1.57990105e-03 -5.30583987e-03  2.35709967e-02\n",
      " -2.95773358e-03  1.21486170e-02  1.18630960e-03  3.76380624e-03\n",
      "  1.02771408e-02  1.09965219e-03  1.20151052e-02  1.98101326e-02\n",
      " -2.19532873e-03 -3.66693134e-03 -9.97059334e-03  1.41944385e-03\n",
      "  2.01808191e-02  1.06516750e-02 -2.74285633e-02 -3.14330834e-02\n",
      "  1.97360092e-02 -2.78725054e-02  7.36069468e-03  2.15031065e-02\n",
      "  9.96662276e-02 -6.62862147e-03 -4.75211106e-02  9.49385837e-03\n",
      "  1.19341788e-02 -6.60170972e-03  1.03231872e-02  3.89552733e-03\n",
      "  5.08907804e-03  4.43037975e-02 -6.48489287e-03  1.26273862e-02\n",
      " -4.81929549e-03 -2.95398893e-02  1.85877969e-02  1.87997061e-02\n",
      "  1.06990373e-02 -9.27741668e-03 -2.97136506e-02  4.73273566e-02\n",
      "  3.95778519e-03  3.04189101e-02  4.28253286e-03 -9.21088430e-03\n",
      " -3.25949320e-02 -3.02523728e-03 -1.90401208e-03  3.13561521e-02\n",
      " -4.91878780e-02  1.45899996e-03  1.52360958e-02  1.40508586e-02\n",
      "  2.18157490e-03 -1.94152087e-02  3.64792818e-02  4.80464157e-03\n",
      " -1.77439901e-02 -7.74197844e-03  1.85602009e-02 -9.16899817e-03\n",
      " -5.73978537e-03  4.35912769e-03 -2.26392998e-02  1.56025331e-02\n",
      "  1.12266239e-02 -1.19200263e-02  1.53754627e-02 -6.05703730e-03\n",
      "  2.30868531e-02 -9.90842455e-03  0.00000000e+00  3.22786024e-02\n",
      "  1.29840283e-01 -6.44771265e-03 -2.81550242e-02 -1.26360774e-02\n",
      " -3.17345025e-03  7.79186505e-02  3.24398881e-03 -8.20488501e-04\n",
      " -3.83017433e-02  2.62166702e-02 -3.87119052e-02 -7.47887312e-02\n",
      " -1.90391875e-02  9.08731182e-03 -3.35204781e-02  3.57759185e-02\n",
      " -4.18703269e-02 -5.48278186e-02  3.99804035e-02 -1.68042807e-02\n",
      "  8.45577577e-02  1.26623899e-02  1.82920504e-02 -2.69719483e-02\n",
      " -5.73133752e-03 -5.19898292e-02 -1.80074058e-02  1.07164008e-03\n",
      " -6.99416828e-02  9.78385172e-03 -4.30630054e-03  5.36157741e-02\n",
      "  2.19122875e-02  1.19322131e-02  2.15979874e-03 -1.14747556e-02\n",
      " -1.33757833e-02  8.00284471e-03 -1.35679186e-02  3.71793320e-02\n",
      " -1.08871306e-02 -5.00585650e-02 -1.54083205e-02  3.94366388e-02\n",
      " -3.21589656e-02  4.91568264e-02  5.51564363e-03 -2.08799895e-02\n",
      " -1.21084006e-02 -5.67107918e-02 -7.11103553e-04  2.21244542e-02\n",
      " -8.03800172e-03 -5.63389400e-02 -2.25828024e-02 -1.67404414e-02\n",
      " -2.62417036e-02  3.15006177e-02  7.84478295e-02  1.92894798e-02\n",
      " -3.30062945e-02 -1.44305961e-02  4.00480707e-02  1.51067507e-02\n",
      "  2.75472785e-02  4.48046624e-02  1.42747489e-02 -3.15207808e-02\n",
      "  1.87954417e-02  6.13580304e-02  3.64857655e-02 -1.62880052e-02\n",
      " -4.73856858e-02 -5.52314965e-02 -9.19874831e-02  5.47854011e-02\n",
      " -2.00303190e-02 -2.32122698e-02 -3.16859838e-03  4.31759785e-02\n",
      " -3.70722807e-02 -5.92656427e-02 -7.78556471e-02  8.00973390e-02\n",
      "  4.34812669e-02  2.35318289e-02 -4.38735410e-02 -4.57489281e-02\n",
      "  3.93501585e-02  8.19729302e-02  1.15570019e-02  5.99809379e-02\n",
      " -3.11377063e-02  2.86773752e-02 -1.36986226e-02  4.06310796e-02\n",
      " -2.11321230e-02  2.57141893e-03  4.69430997e-02 -1.07679999e-02\n",
      " -1.07700877e-02  7.62699615e-03  2.28231165e-02 -3.28211356e-02\n",
      " -3.82571275e-02  7.59140029e-03 -2.01917065e-02 -1.42101230e-02\n",
      " -8.73631137e-04  7.33246234e-02 -6.69193549e-03 -2.90567753e-02\n",
      "  2.64268703e-02 -3.27415485e-02 -4.03524720e-02 -1.15255986e-02\n",
      "  1.47351086e-02 -3.37774236e-02 -5.29271821e-03  4.93333113e-02\n",
      " -4.08789192e-02 -2.80665698e-03 -5.09228881e-02  7.71033978e-02\n",
      " -8.38135290e-02 -5.06674134e-02 -1.21245539e-01 -2.71425435e-02\n",
      "  1.72257581e-04 -1.80799898e-03  4.75245333e-02 -5.77191822e-02\n",
      "  2.67388806e-02 -8.05957551e-02  5.68360590e-02 -1.41893242e-02\n",
      "  6.48596808e-03 -6.21469014e-02  3.91566618e-02  3.53261003e-02\n",
      "  5.42431914e-02  3.07056221e-03 -3.43344207e-02  3.88965119e-02\n",
      " -1.17928441e-02  1.82758473e-02  7.21197268e-03  7.07888614e-03\n",
      " -6.50399583e-02 -5.88489240e-02 -9.16353229e-02 -6.06464757e-04\n",
      "  2.62971417e-02 -8.09106040e-02  6.68024403e-02  2.79424951e-02\n",
      " -2.67918056e-02 -3.82798915e-02  8.13832095e-02 -1.94184339e-02\n",
      " -3.91133125e-02 -3.69117043e-02 -5.16341793e-02  2.61562840e-02\n",
      "  4.95569259e-02 -3.18949876e-02  4.97416331e-02 -1.53847719e-03\n",
      " -2.31124811e-02  1.52471567e-02 -9.42520594e-03 -4.79924338e-02\n",
      "  3.96485501e-02  3.17979547e-02  4.63806580e-02  5.41096534e-02\n",
      "  3.80577388e-03 -3.85611078e-02  9.42575470e-03 -2.89661112e-02\n",
      "  5.34785276e-02  1.37853551e-02  1.96619542e-02  1.98228135e-03\n",
      "  4.62230174e-02 -1.13460524e-02  3.65154295e-02 -1.76983777e-02\n",
      " -1.10152925e-02 -1.19150169e-02  3.74868999e-02  2.33302162e-02\n",
      "  2.47736801e-02  1.22881596e-02 -1.47572247e-02 -1.86020096e-02\n",
      " -4.92332887e-03 -5.36818231e-02 -2.93656560e-02  1.88525977e-03\n",
      "  2.60753020e-02  2.20067819e-02 -3.59736745e-02  6.38185803e-03\n",
      " -8.63134886e-03  4.97517058e-03  2.47523667e-03  2.11638325e-03\n",
      "  5.27961624e-04  2.08443519e-02  2.16249000e-02  4.13223263e-02\n",
      "  1.06089854e-02 -2.60437533e-02  4.32779504e-02 -1.38801427e-02\n",
      " -5.03039097e-02  2.52621299e-04 -1.74271739e-02 -2.31342384e-02\n",
      " -9.02552471e-02 -1.89934554e-02  1.45454875e-02  3.04175074e-02\n",
      "  4.06129509e-02 -3.64079744e-02 -1.51884745e-02 -3.80816024e-04\n",
      "  5.53333101e-02  8.57327496e-03 -1.61059683e-03 -2.72450337e-02\n",
      "  2.25722953e-02 -3.75709366e-02  5.17693203e-02  2.67025417e-03\n",
      " -3.09808950e-02  6.72407117e-02  1.23605360e-02 -9.07240692e-03\n",
      "  1.11232352e-03  2.52136491e-02 -2.96790133e-02  1.76990942e-02\n",
      " -2.65090711e-02 -2.81848935e-02  2.81099553e-02 -7.20423183e-02\n",
      "  2.00168302e-02 -1.34250335e-01 -2.53151883e-02  4.42295136e-02\n",
      " -6.55632509e-03  3.60360620e-02 -3.14459106e-02  6.90051211e-02\n",
      "  7.00195123e-02 -4.02482070e-02  1.75922253e-02 -2.41099129e-02\n",
      " -4.91237886e-02 -1.54079191e-02 -2.10698336e-02 -4.49274171e-03\n",
      "  1.41687499e-02  1.07627129e-02 -2.42653339e-02  8.39393485e-04\n",
      "  7.08744216e-02 -8.51774772e-03 -2.66610696e-03 -2.46534442e-02\n",
      " -5.47152500e-02 -1.73969362e-02  3.63934626e-02 -1.37092566e-03\n",
      "  9.29255450e-03 -2.34359223e-02  6.32101982e-03 -3.53454667e-02\n",
      " -1.14777719e-02 -4.06386000e-02  1.96671993e-02 -6.27714032e-03\n",
      " -2.52669916e-02  4.47740357e-03 -2.06451863e-02 -1.19774826e-02\n",
      "  3.32162149e-02  3.16785912e-03 -7.01752601e-03  4.49941063e-02\n",
      " -1.13841538e-02  9.23495117e-03  8.13376918e-03 -7.84398213e-03\n",
      "  6.66365650e-02  4.28843214e-02  1.90882823e-02  8.96676170e-03\n",
      " -1.57989570e-03 -1.98793603e-02  2.19979853e-02  3.89020783e-02\n",
      " -1.03592849e-02  2.97709782e-03  4.76828381e-02  5.95869529e-02\n",
      " -5.57184660e-02  1.48885386e-02  2.59202343e-02  3.97403181e-02\n",
      "  1.51873363e-03 -2.94859716e-03  1.13223826e-02 -2.78218879e-02\n",
      " -1.22034906e-02 -5.28101580e-02  6.93487208e-02  3.82237128e-02\n",
      "  1.33531823e-01  1.75899844e-02 -5.60894575e-02 -2.14286261e-02\n",
      " -1.21913318e-02 -1.32851384e-02 -2.18291741e-02  6.10848678e-03\n",
      " -2.02379991e-03 -1.98734342e-02  1.28279020e-02  2.73738044e-02\n",
      "  4.77211849e-03  4.82862821e-03 -1.52828297e-02 -4.12800293e-02\n",
      " -1.28504117e-02 -1.97802528e-02  3.44947852e-03 -2.38913610e-02\n",
      "  5.64359564e-02 -1.53345810e-02  2.11595427e-03  4.46790612e-02\n",
      " -2.03735486e-02 -7.17995486e-03 -2.80964655e-02  8.46737520e-03\n",
      " -1.10253839e-02  1.87805714e-02  2.92928926e-02  1.73372814e-02\n",
      " -2.36334599e-02 -2.46994897e-02 -2.63380278e-02 -4.89855564e-02\n",
      "  2.65292731e-02  1.46536550e-02 -1.60175215e-02  1.36096674e-02\n",
      "  6.14308553e-03  1.32577115e-02  2.59964218e-02  7.63483526e-03\n",
      " -1.41548457e-02 -2.44932558e-02  5.36798915e-03 -3.11316346e-02\n",
      "  1.04440076e-02  1.38106940e-02  3.83513941e-02  1.46235483e-02\n",
      " -6.91810534e-03 -1.42643987e-02 -1.03483371e-02  1.92978350e-02\n",
      "  4.79566299e-02  1.13012189e-02 -1.09231111e-01 -1.75811065e-02\n",
      " -5.32823344e-02  4.79693418e-03 -3.49777956e-03  2.77013383e-02\n",
      "  3.26779365e-02 -4.01359201e-02  2.37474680e-02 -3.34758510e-02\n",
      " -5.08236156e-03 -1.22032062e-02  2.28883301e-02  3.55776511e-03\n",
      "  2.40693548e-02  2.17728623e-02  5.26033675e-02 -2.00744974e-02\n",
      "  1.39165060e-02 -6.39386173e-03 -9.00903496e-03  2.04329057e-02\n",
      "  5.71016095e-02  2.48820288e-03  1.92152010e-03  2.16557384e-02\n",
      "  6.49193752e-03 -1.73297782e-02  7.98736386e-03  3.92279934e-03\n",
      " -2.52422300e-02 -1.28277564e-02  3.86583468e-02 -2.03301382e-03\n",
      " -1.98229165e-02  2.44604734e-02  3.26935262e-02 -4.98680492e-03\n",
      " -2.68053665e-02  1.68539607e-02  1.06660475e-02  4.42638089e-02\n",
      " -3.78063864e-03  2.24054296e-02  2.31993724e-02  1.40923980e-02\n",
      "  8.04896921e-03 -6.79038508e-03 -1.75218935e-03  2.40226151e-02\n",
      " -7.73011442e-03  6.97736630e-03  1.02253907e-02 -1.11207178e-02\n",
      "  3.25252649e-02 -7.43494017e-03 -2.15519990e-02 -2.92123161e-02\n",
      " -2.54565076e-02 -5.03979762e-03  2.16166000e-02 -2.54887847e-02\n",
      " -1.20387524e-02 -1.37810544e-02 -1.68420131e-02 -3.29134655e-03\n",
      " -2.54428043e-02 -7.85525009e-03 -6.52025115e-03 -2.28924162e-02\n",
      " -8.47591220e-03  2.48387244e-02  8.26253570e-03 -2.66136231e-02\n",
      "  8.57921492e-03  2.90164450e-03  4.83135926e-02 -1.24007515e-02\n",
      "  7.19701736e-03  8.66590166e-03  7.23490140e-02 -3.65443136e-03\n",
      "  1.05805174e-02  1.77985829e-02  1.03551943e-02  1.15385982e-03\n",
      " -1.88813808e-02 -4.11153810e-03 -9.50593369e-03 -1.40102941e-03\n",
      " -4.91053619e-03 -2.70709301e-02 -3.81131419e-02 -4.14314917e-03\n",
      "  1.46747541e-02 -1.38661146e-02  1.32295133e-02  1.82048979e-02\n",
      "  5.42247737e-03 -4.73733054e-03 -6.46601813e-02 -2.50528213e-03\n",
      " -1.89938445e-02  1.09608990e-02  1.11585630e-02  2.98974704e-02\n",
      " -1.20829575e-02 -3.09999906e-02 -1.50035673e-02  8.94584618e-03\n",
      "  4.15365950e-03 -2.81600584e-02 -1.80076695e-02 -2.90072795e-02\n",
      "  3.34792823e-02  1.34562900e-02 -2.87681508e-02 -2.55696100e-02\n",
      " -1.19511983e-02  2.50679350e-02  1.14579222e-02  9.97548648e-03\n",
      " -3.32301095e-02  6.18181765e-02 -3.64481510e-02  2.46255708e-02\n",
      " -2.82457724e-02 -1.81880584e-02  2.27666634e-02  8.46381707e-03\n",
      "  6.31976390e-02  1.31828686e-02 -1.61278319e-02  6.88947383e-03\n",
      "  2.00550168e-02 -2.22050680e-02  1.75050749e-02 -5.19217455e-03\n",
      "  4.90772694e-03 -1.11628096e-02 -8.46655866e-03 -1.10694984e-03\n",
      "  6.87035633e-02 -9.77638337e-03  7.48673587e-05  1.19661264e-02\n",
      "  3.34786702e-02  6.00683896e-03  1.58516570e-02 -1.65138937e-02\n",
      "  2.81749653e-02  1.90298256e-02 -4.48179022e-03  6.13911227e-03\n",
      " -3.99997517e-03 -3.97522033e-02  7.23037471e-03 -9.07870589e-03\n",
      " -1.47727400e-02 -1.56430086e-02  3.29547373e-03 -6.27737672e-03]\n"
     ]
    },
    {
     "name": "stderr",
     "output_type": "stream",
     "text": [
      "[*********************100%%**********************]  1 of 1 completed\n"
     ]
    },
    {
     "name": "stdout",
     "output_type": "stream",
     "text": [
      "AKAM - Sentiment: [0.], Momentum: [ 0.00061469 -0.06614786 -0.055      ... -0.00401744  0.00016804\n",
      " -0.00562929]\n"
     ]
    },
    {
     "name": "stderr",
     "output_type": "stream",
     "text": [
      "[*********************100%%**********************]  1 of 1 completed\n"
     ]
    },
    {
     "name": "stdout",
     "output_type": "stream",
     "text": [
      "ALB - Sentiment: [0.], Momentum: [ 0.00081175  0.          0.01736111 ... -0.02014563  0.00073657\n",
      " -0.03312586]\n"
     ]
    },
    {
     "name": "stderr",
     "output_type": "stream",
     "text": [
      "[*********************100%%**********************]  1 of 1 completed\n"
     ]
    },
    {
     "name": "stdout",
     "output_type": "stream",
     "text": [
      "ARE - Sentiment: [0.], Momentum: [ 0.00055706 -0.02199973 -0.01840475 ...  0.00123922  0.0070312\n",
      " -0.01652442]\n"
     ]
    },
    {
     "name": "stderr",
     "output_type": "stream",
     "text": [
      "[*********************100%%**********************]  1 of 1 completed\n",
      "[*********************100%%**********************]  1 of 1 completed"
     ]
    },
    {
     "name": "stdout",
     "output_type": "stream",
     "text": [
      "ALGN - Sentiment: [0.], Momentum: [ 0.00120847 -0.2         0.05092593 ...  0.00397533  0.00504946\n",
      " -0.00965053]\n"
     ]
    },
    {
     "name": "stderr",
     "output_type": "stream",
     "text": [
      "\n"
     ]
    },
    {
     "name": "stdout",
     "output_type": "stream",
     "text": [
      "ALLE - Sentiment: [0.], Momentum: [ 0.00055456 -0.05528075 -0.02510892 ...  0.00086283 -0.00572142\n",
      " -0.00134005]\n"
     ]
    },
    {
     "name": "stderr",
     "output_type": "stream",
     "text": [
      "[*********************100%%**********************]  1 of 1 completed\n"
     ]
    },
    {
     "name": "stdout",
     "output_type": "stream",
     "text": [
      "LNT - Sentiment: [0.], Momentum: [ 0.0004942   0.          0.04895066 ... -0.00176715  0.00944144\n",
      " -0.00038973]\n"
     ]
    },
    {
     "name": "stderr",
     "output_type": "stream",
     "text": [
      "[*********************100%%**********************]  1 of 1 completed\n"
     ]
    },
    {
     "name": "stdout",
     "output_type": "stream",
     "text": [
      "ALL - Sentiment: [0.], Momentum: [ 0.00058032 -0.03191497  0.04395591 ...  0.00224506  0.01033317\n",
      "  0.00114425]\n"
     ]
    },
    {
     "name": "stderr",
     "output_type": "stream",
     "text": [
      "[*********************100%%**********************]  1 of 1 completed\n",
      "[*********************100%%**********************]  1 of 1 completed"
     ]
    },
    {
     "name": "stdout",
     "output_type": "stream",
     "text": [
      "GOOGL - Sentiment: [0.], Momentum: [ 0.00101069  0.07942979  0.01006395 ... -0.00812612 -0.00099736\n",
      " -0.00385077]\n"
     ]
    },
    {
     "name": "stderr",
     "output_type": "stream",
     "text": [
      "\n"
     ]
    },
    {
     "name": "stdout",
     "output_type": "stream",
     "text": [
      "GOOG - Sentiment: [0.], Momentum: [ 0.0010138   0.07942989  0.01006362 ... -0.00966255 -0.00113125\n",
      " -0.00247739]\n"
     ]
    },
    {
     "name": "stderr",
     "output_type": "stream",
     "text": [
      "[*********************100%%**********************]  1 of 1 completed\n"
     ]
    },
    {
     "name": "stdout",
     "output_type": "stream",
     "text": [
      "MO - Sentiment: [0.], Momentum: [ 0.00068143  0.00800008 -0.00529092 ... -0.00049555 -0.00396628\n",
      "  0.00398208]\n"
     ]
    },
    {
     "name": "stderr",
     "output_type": "stream",
     "text": [
      "[*********************100%%**********************]  1 of 1 completed\n",
      "[*********************100%%**********************]  1 of 1 completed"
     ]
    },
    {
     "name": "stdout",
     "output_type": "stream",
     "text": [
      "AMZN - Sentiment: [0.], Momentum: [ 0.00107303 -0.08321674 -0.14874147 ... -0.00045634  0.00026091\n",
      " -0.00938846]\n"
     ]
    },
    {
     "name": "stderr",
     "output_type": "stream",
     "text": [
      "\n",
      "/var/folders/px/1fx__yfn2k74kgwgnv32tkbw0000gn/T/ipykernel_22243/2576113641.py:56: PerformanceWarning: DataFrame is highly fragmented.  This is usually the result of calling `frame.insert` many times, which has poor performance.  Consider joining all columns at once using pd.concat(axis=1) instead. To get a de-fragmented frame, use `newframe = frame.copy()`\n",
      "  analysis_data[f'{symbol}_Momentum'] = stock_data.pct_change()\n",
      "/var/folders/px/1fx__yfn2k74kgwgnv32tkbw0000gn/T/ipykernel_22243/2576113641.py:67: PerformanceWarning: DataFrame is highly fragmented.  This is usually the result of calling `frame.insert` many times, which has poor performance.  Consider joining all columns at once using pd.concat(axis=1) instead. To get a de-fragmented frame, use `newframe = frame.copy()`\n",
      "  analysis_data[f'{symbol}_Sentiment'] = sentiment_scores\n",
      "/var/folders/px/1fx__yfn2k74kgwgnv32tkbw0000gn/T/ipykernel_22243/2576113641.py:74: PerformanceWarning: DataFrame is highly fragmented.  This is usually the result of calling `frame.insert` many times, which has poor performance.  Consider joining all columns at once using pd.concat(axis=1) instead. To get a de-fragmented frame, use `newframe = frame.copy()`\n",
      "  analysis_data[f'{symbol}_Target'] = pd.cut(closing_price_change, bins=[float('-inf'), 0, float('inf')], labels=[-1, 1])\n",
      "/var/folders/px/1fx__yfn2k74kgwgnv32tkbw0000gn/T/ipykernel_22243/2576113641.py:80: PerformanceWarning: DataFrame is highly fragmented.  This is usually the result of calling `frame.insert` many times, which has poor performance.  Consider joining all columns at once using pd.concat(axis=1) instead. To get a de-fragmented frame, use `newframe = frame.copy()`\n",
      "  analysis_data[f'{symbol}_Certainty'] = (\n"
     ]
    },
    {
     "name": "stdout",
     "output_type": "stream",
     "text": [
      "AMCR - Sentiment: [0.], Momentum: [ 0.00033955  0.         -0.03896083 ...  0.00413223 -0.00102883\n",
      " -0.00720903]\n"
     ]
    },
    {
     "name": "stderr",
     "output_type": "stream",
     "text": [
      "[*********************100%%**********************]  1 of 1 completed\n",
      "/var/folders/px/1fx__yfn2k74kgwgnv32tkbw0000gn/T/ipykernel_22243/2576113641.py:56: PerformanceWarning: DataFrame is highly fragmented.  This is usually the result of calling `frame.insert` many times, which has poor performance.  Consider joining all columns at once using pd.concat(axis=1) instead. To get a de-fragmented frame, use `newframe = frame.copy()`\n",
      "  analysis_data[f'{symbol}_Momentum'] = stock_data.pct_change()\n",
      "/var/folders/px/1fx__yfn2k74kgwgnv32tkbw0000gn/T/ipykernel_22243/2576113641.py:67: PerformanceWarning: DataFrame is highly fragmented.  This is usually the result of calling `frame.insert` many times, which has poor performance.  Consider joining all columns at once using pd.concat(axis=1) instead. To get a de-fragmented frame, use `newframe = frame.copy()`\n",
      "  analysis_data[f'{symbol}_Sentiment'] = sentiment_scores\n",
      "/var/folders/px/1fx__yfn2k74kgwgnv32tkbw0000gn/T/ipykernel_22243/2576113641.py:74: PerformanceWarning: DataFrame is highly fragmented.  This is usually the result of calling `frame.insert` many times, which has poor performance.  Consider joining all columns at once using pd.concat(axis=1) instead. To get a de-fragmented frame, use `newframe = frame.copy()`\n",
      "  analysis_data[f'{symbol}_Target'] = pd.cut(closing_price_change, bins=[float('-inf'), 0, float('inf')], labels=[-1, 1])\n",
      "/var/folders/px/1fx__yfn2k74kgwgnv32tkbw0000gn/T/ipykernel_22243/2576113641.py:80: PerformanceWarning: DataFrame is highly fragmented.  This is usually the result of calling `frame.insert` many times, which has poor performance.  Consider joining all columns at once using pd.concat(axis=1) instead. To get a de-fragmented frame, use `newframe = frame.copy()`\n",
      "  analysis_data[f'{symbol}_Certainty'] = (\n"
     ]
    },
    {
     "name": "stdout",
     "output_type": "stream",
     "text": [
      "AEE - Sentiment: [0.], Momentum: [ 0.00041182  0.          0.03868463 ... -0.00097533  0.00836829\n",
      "  0.00055316]\n"
     ]
    },
    {
     "name": "stderr",
     "output_type": "stream",
     "text": [
      "[*********************100%%**********************]  1 of 1 completed\n",
      "/var/folders/px/1fx__yfn2k74kgwgnv32tkbw0000gn/T/ipykernel_22243/2576113641.py:56: PerformanceWarning: DataFrame is highly fragmented.  This is usually the result of calling `frame.insert` many times, which has poor performance.  Consider joining all columns at once using pd.concat(axis=1) instead. To get a de-fragmented frame, use `newframe = frame.copy()`\n",
      "  analysis_data[f'{symbol}_Momentum'] = stock_data.pct_change()\n",
      "/var/folders/px/1fx__yfn2k74kgwgnv32tkbw0000gn/T/ipykernel_22243/2576113641.py:67: PerformanceWarning: DataFrame is highly fragmented.  This is usually the result of calling `frame.insert` many times, which has poor performance.  Consider joining all columns at once using pd.concat(axis=1) instead. To get a de-fragmented frame, use `newframe = frame.copy()`\n",
      "  analysis_data[f'{symbol}_Sentiment'] = sentiment_scores\n",
      "/var/folders/px/1fx__yfn2k74kgwgnv32tkbw0000gn/T/ipykernel_22243/2576113641.py:74: PerformanceWarning: DataFrame is highly fragmented.  This is usually the result of calling `frame.insert` many times, which has poor performance.  Consider joining all columns at once using pd.concat(axis=1) instead. To get a de-fragmented frame, use `newframe = frame.copy()`\n",
      "  analysis_data[f'{symbol}_Target'] = pd.cut(closing_price_change, bins=[float('-inf'), 0, float('inf')], labels=[-1, 1])\n",
      "/var/folders/px/1fx__yfn2k74kgwgnv32tkbw0000gn/T/ipykernel_22243/2576113641.py:80: PerformanceWarning: DataFrame is highly fragmented.  This is usually the result of calling `frame.insert` many times, which has poor performance.  Consider joining all columns at once using pd.concat(axis=1) instead. To get a de-fragmented frame, use `newframe = frame.copy()`\n",
      "  analysis_data[f'{symbol}_Certainty'] = (\n"
     ]
    },
    {
     "name": "stdout",
     "output_type": "stream",
     "text": [
      "AAL - Sentiment: [0.], Momentum: [ 0.00079181  0.06217632 -0.01414647 ... -0.0085046  -0.00071481\n",
      " -0.01716737]\n"
     ]
    },
    {
     "name": "stderr",
     "output_type": "stream",
     "text": [
      "[*********************100%%**********************]  1 of 1 completed\n",
      "/var/folders/px/1fx__yfn2k74kgwgnv32tkbw0000gn/T/ipykernel_22243/2576113641.py:56: PerformanceWarning: DataFrame is highly fragmented.  This is usually the result of calling `frame.insert` many times, which has poor performance.  Consider joining all columns at once using pd.concat(axis=1) instead. To get a de-fragmented frame, use `newframe = frame.copy()`\n",
      "  analysis_data[f'{symbol}_Momentum'] = stock_data.pct_change()\n",
      "/var/folders/px/1fx__yfn2k74kgwgnv32tkbw0000gn/T/ipykernel_22243/2576113641.py:67: PerformanceWarning: DataFrame is highly fragmented.  This is usually the result of calling `frame.insert` many times, which has poor performance.  Consider joining all columns at once using pd.concat(axis=1) instead. To get a de-fragmented frame, use `newframe = frame.copy()`\n",
      "  analysis_data[f'{symbol}_Sentiment'] = sentiment_scores\n",
      "/var/folders/px/1fx__yfn2k74kgwgnv32tkbw0000gn/T/ipykernel_22243/2576113641.py:74: PerformanceWarning: DataFrame is highly fragmented.  This is usually the result of calling `frame.insert` many times, which has poor performance.  Consider joining all columns at once using pd.concat(axis=1) instead. To get a de-fragmented frame, use `newframe = frame.copy()`\n",
      "  analysis_data[f'{symbol}_Target'] = pd.cut(closing_price_change, bins=[float('-inf'), 0, float('inf')], labels=[-1, 1])\n",
      "/var/folders/px/1fx__yfn2k74kgwgnv32tkbw0000gn/T/ipykernel_22243/2576113641.py:80: PerformanceWarning: DataFrame is highly fragmented.  This is usually the result of calling `frame.insert` many times, which has poor performance.  Consider joining all columns at once using pd.concat(axis=1) instead. To get a de-fragmented frame, use `newframe = frame.copy()`\n",
      "  analysis_data[f'{symbol}_Certainty'] = (\n"
     ]
    },
    {
     "name": "stdout",
     "output_type": "stream",
     "text": [
      "AEP - Sentiment: [0.], Momentum: [ 0.00045134  0.01192856  0.03732755 ...  0.00099082  0.00643496\n",
      " -0.00135253]\n"
     ]
    },
    {
     "name": "stderr",
     "output_type": "stream",
     "text": [
      "[*********************100%%**********************]  1 of 1 completed\n",
      "/var/folders/px/1fx__yfn2k74kgwgnv32tkbw0000gn/T/ipykernel_22243/2576113641.py:56: PerformanceWarning: DataFrame is highly fragmented.  This is usually the result of calling `frame.insert` many times, which has poor performance.  Consider joining all columns at once using pd.concat(axis=1) instead. To get a de-fragmented frame, use `newframe = frame.copy()`\n",
      "  analysis_data[f'{symbol}_Momentum'] = stock_data.pct_change()\n",
      "/var/folders/px/1fx__yfn2k74kgwgnv32tkbw0000gn/T/ipykernel_22243/2576113641.py:67: PerformanceWarning: DataFrame is highly fragmented.  This is usually the result of calling `frame.insert` many times, which has poor performance.  Consider joining all columns at once using pd.concat(axis=1) instead. To get a de-fragmented frame, use `newframe = frame.copy()`\n",
      "  analysis_data[f'{symbol}_Sentiment'] = sentiment_scores\n",
      "/var/folders/px/1fx__yfn2k74kgwgnv32tkbw0000gn/T/ipykernel_22243/2576113641.py:74: PerformanceWarning: DataFrame is highly fragmented.  This is usually the result of calling `frame.insert` many times, which has poor performance.  Consider joining all columns at once using pd.concat(axis=1) instead. To get a de-fragmented frame, use `newframe = frame.copy()`\n",
      "  analysis_data[f'{symbol}_Target'] = pd.cut(closing_price_change, bins=[float('-inf'), 0, float('inf')], labels=[-1, 1])\n",
      "/var/folders/px/1fx__yfn2k74kgwgnv32tkbw0000gn/T/ipykernel_22243/2576113641.py:80: PerformanceWarning: DataFrame is highly fragmented.  This is usually the result of calling `frame.insert` many times, which has poor performance.  Consider joining all columns at once using pd.concat(axis=1) instead. To get a de-fragmented frame, use `newframe = frame.copy()`\n",
      "  analysis_data[f'{symbol}_Certainty'] = (\n"
     ]
    },
    {
     "name": "stdout",
     "output_type": "stream",
     "text": [
      "AXP - Sentiment: [0.], Momentum: [ 0.0005436  -0.03775796 -0.02539987 ...  0.00591521  0.00395599\n",
      " -0.00244946]\n"
     ]
    },
    {
     "name": "stderr",
     "output_type": "stream",
     "text": [
      "[*********************100%%**********************]  1 of 1 completed\n",
      "/var/folders/px/1fx__yfn2k74kgwgnv32tkbw0000gn/T/ipykernel_22243/2576113641.py:56: PerformanceWarning: DataFrame is highly fragmented.  This is usually the result of calling `frame.insert` many times, which has poor performance.  Consider joining all columns at once using pd.concat(axis=1) instead. To get a de-fragmented frame, use `newframe = frame.copy()`\n",
      "  analysis_data[f'{symbol}_Momentum'] = stock_data.pct_change()\n",
      "/var/folders/px/1fx__yfn2k74kgwgnv32tkbw0000gn/T/ipykernel_22243/2576113641.py:67: PerformanceWarning: DataFrame is highly fragmented.  This is usually the result of calling `frame.insert` many times, which has poor performance.  Consider joining all columns at once using pd.concat(axis=1) instead. To get a de-fragmented frame, use `newframe = frame.copy()`\n",
      "  analysis_data[f'{symbol}_Sentiment'] = sentiment_scores\n",
      "/var/folders/px/1fx__yfn2k74kgwgnv32tkbw0000gn/T/ipykernel_22243/2576113641.py:74: PerformanceWarning: DataFrame is highly fragmented.  This is usually the result of calling `frame.insert` many times, which has poor performance.  Consider joining all columns at once using pd.concat(axis=1) instead. To get a de-fragmented frame, use `newframe = frame.copy()`\n",
      "  analysis_data[f'{symbol}_Target'] = pd.cut(closing_price_change, bins=[float('-inf'), 0, float('inf')], labels=[-1, 1])\n",
      "/var/folders/px/1fx__yfn2k74kgwgnv32tkbw0000gn/T/ipykernel_22243/2576113641.py:80: PerformanceWarning: DataFrame is highly fragmented.  This is usually the result of calling `frame.insert` many times, which has poor performance.  Consider joining all columns at once using pd.concat(axis=1) instead. To get a de-fragmented frame, use `newframe = frame.copy()`\n",
      "  analysis_data[f'{symbol}_Certainty'] = (\n"
     ]
    },
    {
     "name": "stdout",
     "output_type": "stream",
     "text": [
      "AIG - Sentiment: [0.], Momentum: [ 0.00020832 -0.05111208  0.00237627 ...  0.00029799  0.01072228\n",
      " -0.00176813]\n"
     ]
    },
    {
     "name": "stderr",
     "output_type": "stream",
     "text": [
      "[*********************100%%**********************]  1 of 1 completed\n",
      "/var/folders/px/1fx__yfn2k74kgwgnv32tkbw0000gn/T/ipykernel_22243/2576113641.py:56: PerformanceWarning: DataFrame is highly fragmented.  This is usually the result of calling `frame.insert` many times, which has poor performance.  Consider joining all columns at once using pd.concat(axis=1) instead. To get a de-fragmented frame, use `newframe = frame.copy()`\n",
      "  analysis_data[f'{symbol}_Momentum'] = stock_data.pct_change()\n",
      "/var/folders/px/1fx__yfn2k74kgwgnv32tkbw0000gn/T/ipykernel_22243/2576113641.py:67: PerformanceWarning: DataFrame is highly fragmented.  This is usually the result of calling `frame.insert` many times, which has poor performance.  Consider joining all columns at once using pd.concat(axis=1) instead. To get a de-fragmented frame, use `newframe = frame.copy()`\n",
      "  analysis_data[f'{symbol}_Sentiment'] = sentiment_scores\n",
      "/var/folders/px/1fx__yfn2k74kgwgnv32tkbw0000gn/T/ipykernel_22243/2576113641.py:74: PerformanceWarning: DataFrame is highly fragmented.  This is usually the result of calling `frame.insert` many times, which has poor performance.  Consider joining all columns at once using pd.concat(axis=1) instead. To get a de-fragmented frame, use `newframe = frame.copy()`\n",
      "  analysis_data[f'{symbol}_Target'] = pd.cut(closing_price_change, bins=[float('-inf'), 0, float('inf')], labels=[-1, 1])\n",
      "/var/folders/px/1fx__yfn2k74kgwgnv32tkbw0000gn/T/ipykernel_22243/2576113641.py:80: PerformanceWarning: DataFrame is highly fragmented.  This is usually the result of calling `frame.insert` many times, which has poor performance.  Consider joining all columns at once using pd.concat(axis=1) instead. To get a de-fragmented frame, use `newframe = frame.copy()`\n",
      "  analysis_data[f'{symbol}_Certainty'] = (\n",
      "[*********************100%%**********************]  1 of 1 completed"
     ]
    },
    {
     "name": "stdout",
     "output_type": "stream",
     "text": [
      "AMT - Sentiment: [0.], Momentum: [ 0.00076763 -0.01066068  0.03017215 ...  0.01016124  0.00203028\n",
      " -0.00589427]\n"
     ]
    },
    {
     "name": "stderr",
     "output_type": "stream",
     "text": [
      "\n",
      "/var/folders/px/1fx__yfn2k74kgwgnv32tkbw0000gn/T/ipykernel_22243/2576113641.py:56: PerformanceWarning: DataFrame is highly fragmented.  This is usually the result of calling `frame.insert` many times, which has poor performance.  Consider joining all columns at once using pd.concat(axis=1) instead. To get a de-fragmented frame, use `newframe = frame.copy()`\n",
      "  analysis_data[f'{symbol}_Momentum'] = stock_data.pct_change()\n",
      "/var/folders/px/1fx__yfn2k74kgwgnv32tkbw0000gn/T/ipykernel_22243/2576113641.py:67: PerformanceWarning: DataFrame is highly fragmented.  This is usually the result of calling `frame.insert` many times, which has poor performance.  Consider joining all columns at once using pd.concat(axis=1) instead. To get a de-fragmented frame, use `newframe = frame.copy()`\n",
      "  analysis_data[f'{symbol}_Sentiment'] = sentiment_scores\n",
      "/var/folders/px/1fx__yfn2k74kgwgnv32tkbw0000gn/T/ipykernel_22243/2576113641.py:74: PerformanceWarning: DataFrame is highly fragmented.  This is usually the result of calling `frame.insert` many times, which has poor performance.  Consider joining all columns at once using pd.concat(axis=1) instead. To get a de-fragmented frame, use `newframe = frame.copy()`\n",
      "  analysis_data[f'{symbol}_Target'] = pd.cut(closing_price_change, bins=[float('-inf'), 0, float('inf')], labels=[-1, 1])\n",
      "/var/folders/px/1fx__yfn2k74kgwgnv32tkbw0000gn/T/ipykernel_22243/2576113641.py:80: PerformanceWarning: DataFrame is highly fragmented.  This is usually the result of calling `frame.insert` many times, which has poor performance.  Consider joining all columns at once using pd.concat(axis=1) instead. To get a de-fragmented frame, use `newframe = frame.copy()`\n",
      "  analysis_data[f'{symbol}_Certainty'] = (\n"
     ]
    },
    {
     "name": "stdout",
     "output_type": "stream",
     "text": [
      "AWK - Sentiment: [0.], Momentum: [ 0.0006747   0.01019452  0.01729938 ... -0.00030249  0.00567194\n",
      " -0.00744465]\n"
     ]
    },
    {
     "name": "stderr",
     "output_type": "stream",
     "text": [
      "[*********************100%%**********************]  1 of 1 completed\n",
      "/var/folders/px/1fx__yfn2k74kgwgnv32tkbw0000gn/T/ipykernel_22243/2576113641.py:56: PerformanceWarning: DataFrame is highly fragmented.  This is usually the result of calling `frame.insert` many times, which has poor performance.  Consider joining all columns at once using pd.concat(axis=1) instead. To get a de-fragmented frame, use `newframe = frame.copy()`\n",
      "  analysis_data[f'{symbol}_Momentum'] = stock_data.pct_change()\n",
      "/var/folders/px/1fx__yfn2k74kgwgnv32tkbw0000gn/T/ipykernel_22243/2576113641.py:67: PerformanceWarning: DataFrame is highly fragmented.  This is usually the result of calling `frame.insert` many times, which has poor performance.  Consider joining all columns at once using pd.concat(axis=1) instead. To get a de-fragmented frame, use `newframe = frame.copy()`\n",
      "  analysis_data[f'{symbol}_Sentiment'] = sentiment_scores\n",
      "/var/folders/px/1fx__yfn2k74kgwgnv32tkbw0000gn/T/ipykernel_22243/2576113641.py:74: PerformanceWarning: DataFrame is highly fragmented.  This is usually the result of calling `frame.insert` many times, which has poor performance.  Consider joining all columns at once using pd.concat(axis=1) instead. To get a de-fragmented frame, use `newframe = frame.copy()`\n",
      "  analysis_data[f'{symbol}_Target'] = pd.cut(closing_price_change, bins=[float('-inf'), 0, float('inf')], labels=[-1, 1])\n",
      "/var/folders/px/1fx__yfn2k74kgwgnv32tkbw0000gn/T/ipykernel_22243/2576113641.py:80: PerformanceWarning: DataFrame is highly fragmented.  This is usually the result of calling `frame.insert` many times, which has poor performance.  Consider joining all columns at once using pd.concat(axis=1) instead. To get a de-fragmented frame, use `newframe = frame.copy()`\n",
      "  analysis_data[f'{symbol}_Certainty'] = (\n"
     ]
    },
    {
     "name": "stdout",
     "output_type": "stream",
     "text": [
      "AMP - Sentiment: [0.], Momentum: [ 0.00092187 -0.01107763  0.00273205 ...  0.0047059   0.00294709\n",
      " -0.00346316]\n"
     ]
    },
    {
     "name": "stderr",
     "output_type": "stream",
     "text": [
      "[*********************100%%**********************]  1 of 1 completed\n",
      "/var/folders/px/1fx__yfn2k74kgwgnv32tkbw0000gn/T/ipykernel_22243/2576113641.py:56: PerformanceWarning: DataFrame is highly fragmented.  This is usually the result of calling `frame.insert` many times, which has poor performance.  Consider joining all columns at once using pd.concat(axis=1) instead. To get a de-fragmented frame, use `newframe = frame.copy()`\n",
      "  analysis_data[f'{symbol}_Momentum'] = stock_data.pct_change()\n",
      "/var/folders/px/1fx__yfn2k74kgwgnv32tkbw0000gn/T/ipykernel_22243/2576113641.py:67: PerformanceWarning: DataFrame is highly fragmented.  This is usually the result of calling `frame.insert` many times, which has poor performance.  Consider joining all columns at once using pd.concat(axis=1) instead. To get a de-fragmented frame, use `newframe = frame.copy()`\n",
      "  analysis_data[f'{symbol}_Sentiment'] = sentiment_scores\n",
      "/var/folders/px/1fx__yfn2k74kgwgnv32tkbw0000gn/T/ipykernel_22243/2576113641.py:74: PerformanceWarning: DataFrame is highly fragmented.  This is usually the result of calling `frame.insert` many times, which has poor performance.  Consider joining all columns at once using pd.concat(axis=1) instead. To get a de-fragmented frame, use `newframe = frame.copy()`\n",
      "  analysis_data[f'{symbol}_Target'] = pd.cut(closing_price_change, bins=[float('-inf'), 0, float('inf')], labels=[-1, 1])\n",
      "/var/folders/px/1fx__yfn2k74kgwgnv32tkbw0000gn/T/ipykernel_22243/2576113641.py:80: PerformanceWarning: DataFrame is highly fragmented.  This is usually the result of calling `frame.insert` many times, which has poor performance.  Consider joining all columns at once using pd.concat(axis=1) instead. To get a de-fragmented frame, use `newframe = frame.copy()`\n",
      "  analysis_data[f'{symbol}_Certainty'] = (\n"
     ]
    },
    {
     "name": "stdout",
     "output_type": "stream",
     "text": [
      "AME - Sentiment: [0.], Momentum: [ 0.00085937 -0.00328978  0.00990141 ... -0.00218315  0.00352499\n",
      " -0.0013929 ]\n"
     ]
    },
    {
     "name": "stderr",
     "output_type": "stream",
     "text": [
      "[*********************100%%**********************]  1 of 1 completed\n",
      "/var/folders/px/1fx__yfn2k74kgwgnv32tkbw0000gn/T/ipykernel_22243/2576113641.py:56: PerformanceWarning: DataFrame is highly fragmented.  This is usually the result of calling `frame.insert` many times, which has poor performance.  Consider joining all columns at once using pd.concat(axis=1) instead. To get a de-fragmented frame, use `newframe = frame.copy()`\n",
      "  analysis_data[f'{symbol}_Momentum'] = stock_data.pct_change()\n",
      "/var/folders/px/1fx__yfn2k74kgwgnv32tkbw0000gn/T/ipykernel_22243/2576113641.py:67: PerformanceWarning: DataFrame is highly fragmented.  This is usually the result of calling `frame.insert` many times, which has poor performance.  Consider joining all columns at once using pd.concat(axis=1) instead. To get a de-fragmented frame, use `newframe = frame.copy()`\n",
      "  analysis_data[f'{symbol}_Sentiment'] = sentiment_scores\n",
      "/var/folders/px/1fx__yfn2k74kgwgnv32tkbw0000gn/T/ipykernel_22243/2576113641.py:74: PerformanceWarning: DataFrame is highly fragmented.  This is usually the result of calling `frame.insert` many times, which has poor performance.  Consider joining all columns at once using pd.concat(axis=1) instead. To get a de-fragmented frame, use `newframe = frame.copy()`\n",
      "  analysis_data[f'{symbol}_Target'] = pd.cut(closing_price_change, bins=[float('-inf'), 0, float('inf')], labels=[-1, 1])\n",
      "/var/folders/px/1fx__yfn2k74kgwgnv32tkbw0000gn/T/ipykernel_22243/2576113641.py:80: PerformanceWarning: DataFrame is highly fragmented.  This is usually the result of calling `frame.insert` many times, which has poor performance.  Consider joining all columns at once using pd.concat(axis=1) instead. To get a de-fragmented frame, use `newframe = frame.copy()`\n",
      "  analysis_data[f'{symbol}_Certainty'] = (\n"
     ]
    },
    {
     "name": "stdout",
     "output_type": "stream",
     "text": [
      "AMGN - Sentiment: [0.], Momentum: [ 0.00049312 -0.07646494  0.03440841 ...  0.00926389  0.0067357\n",
      " -0.00152533]\n"
     ]
    },
    {
     "name": "stderr",
     "output_type": "stream",
     "text": [
      "[*********************100%%**********************]  1 of 1 completed\n",
      "/var/folders/px/1fx__yfn2k74kgwgnv32tkbw0000gn/T/ipykernel_22243/2576113641.py:56: PerformanceWarning: DataFrame is highly fragmented.  This is usually the result of calling `frame.insert` many times, which has poor performance.  Consider joining all columns at once using pd.concat(axis=1) instead. To get a de-fragmented frame, use `newframe = frame.copy()`\n",
      "  analysis_data[f'{symbol}_Momentum'] = stock_data.pct_change()\n",
      "/var/folders/px/1fx__yfn2k74kgwgnv32tkbw0000gn/T/ipykernel_22243/2576113641.py:67: PerformanceWarning: DataFrame is highly fragmented.  This is usually the result of calling `frame.insert` many times, which has poor performance.  Consider joining all columns at once using pd.concat(axis=1) instead. To get a de-fragmented frame, use `newframe = frame.copy()`\n",
      "  analysis_data[f'{symbol}_Sentiment'] = sentiment_scores\n",
      "/var/folders/px/1fx__yfn2k74kgwgnv32tkbw0000gn/T/ipykernel_22243/2576113641.py:74: PerformanceWarning: DataFrame is highly fragmented.  This is usually the result of calling `frame.insert` many times, which has poor performance.  Consider joining all columns at once using pd.concat(axis=1) instead. To get a de-fragmented frame, use `newframe = frame.copy()`\n",
      "  analysis_data[f'{symbol}_Target'] = pd.cut(closing_price_change, bins=[float('-inf'), 0, float('inf')], labels=[-1, 1])\n",
      "/var/folders/px/1fx__yfn2k74kgwgnv32tkbw0000gn/T/ipykernel_22243/2576113641.py:80: PerformanceWarning: DataFrame is highly fragmented.  This is usually the result of calling `frame.insert` many times, which has poor performance.  Consider joining all columns at once using pd.concat(axis=1) instead. To get a de-fragmented frame, use `newframe = frame.copy()`\n",
      "  analysis_data[f'{symbol}_Certainty'] = (\n"
     ]
    },
    {
     "name": "stdout",
     "output_type": "stream",
     "text": [
      "APH - Sentiment: [0.], Momentum: [ 0.00089437 -0.03438644 -0.02213681 ... -0.00020099 -0.00030159\n",
      " -0.00311751]\n"
     ]
    },
    {
     "name": "stderr",
     "output_type": "stream",
     "text": [
      "[*********************100%%**********************]  1 of 1 completed\n",
      "/var/folders/px/1fx__yfn2k74kgwgnv32tkbw0000gn/T/ipykernel_22243/2576113641.py:56: PerformanceWarning: DataFrame is highly fragmented.  This is usually the result of calling `frame.insert` many times, which has poor performance.  Consider joining all columns at once using pd.concat(axis=1) instead. To get a de-fragmented frame, use `newframe = frame.copy()`\n",
      "  analysis_data[f'{symbol}_Momentum'] = stock_data.pct_change()\n",
      "/var/folders/px/1fx__yfn2k74kgwgnv32tkbw0000gn/T/ipykernel_22243/2576113641.py:67: PerformanceWarning: DataFrame is highly fragmented.  This is usually the result of calling `frame.insert` many times, which has poor performance.  Consider joining all columns at once using pd.concat(axis=1) instead. To get a de-fragmented frame, use `newframe = frame.copy()`\n",
      "  analysis_data[f'{symbol}_Sentiment'] = sentiment_scores\n",
      "/var/folders/px/1fx__yfn2k74kgwgnv32tkbw0000gn/T/ipykernel_22243/2576113641.py:74: PerformanceWarning: DataFrame is highly fragmented.  This is usually the result of calling `frame.insert` many times, which has poor performance.  Consider joining all columns at once using pd.concat(axis=1) instead. To get a de-fragmented frame, use `newframe = frame.copy()`\n",
      "  analysis_data[f'{symbol}_Target'] = pd.cut(closing_price_change, bins=[float('-inf'), 0, float('inf')], labels=[-1, 1])\n",
      "/var/folders/px/1fx__yfn2k74kgwgnv32tkbw0000gn/T/ipykernel_22243/2576113641.py:80: PerformanceWarning: DataFrame is highly fragmented.  This is usually the result of calling `frame.insert` many times, which has poor performance.  Consider joining all columns at once using pd.concat(axis=1) instead. To get a de-fragmented frame, use `newframe = frame.copy()`\n",
      "  analysis_data[f'{symbol}_Certainty'] = (\n"
     ]
    },
    {
     "name": "stdout",
     "output_type": "stream",
     "text": [
      "ADI - Sentiment: [0.], Momentum: [ 0.00065263 -0.0505892   0.01459857 ...  0.00241369  0.00446451\n",
      " -0.00838997]\n"
     ]
    },
    {
     "name": "stderr",
     "output_type": "stream",
     "text": [
      "[*********************100%%**********************]  1 of 1 completed\n",
      "/var/folders/px/1fx__yfn2k74kgwgnv32tkbw0000gn/T/ipykernel_22243/2576113641.py:56: PerformanceWarning: DataFrame is highly fragmented.  This is usually the result of calling `frame.insert` many times, which has poor performance.  Consider joining all columns at once using pd.concat(axis=1) instead. To get a de-fragmented frame, use `newframe = frame.copy()`\n",
      "  analysis_data[f'{symbol}_Momentum'] = stock_data.pct_change()\n",
      "/var/folders/px/1fx__yfn2k74kgwgnv32tkbw0000gn/T/ipykernel_22243/2576113641.py:67: PerformanceWarning: DataFrame is highly fragmented.  This is usually the result of calling `frame.insert` many times, which has poor performance.  Consider joining all columns at once using pd.concat(axis=1) instead. To get a de-fragmented frame, use `newframe = frame.copy()`\n",
      "  analysis_data[f'{symbol}_Sentiment'] = sentiment_scores\n",
      "/var/folders/px/1fx__yfn2k74kgwgnv32tkbw0000gn/T/ipykernel_22243/2576113641.py:74: PerformanceWarning: DataFrame is highly fragmented.  This is usually the result of calling `frame.insert` many times, which has poor performance.  Consider joining all columns at once using pd.concat(axis=1) instead. To get a de-fragmented frame, use `newframe = frame.copy()`\n",
      "  analysis_data[f'{symbol}_Target'] = pd.cut(closing_price_change, bins=[float('-inf'), 0, float('inf')], labels=[-1, 1])\n",
      "/var/folders/px/1fx__yfn2k74kgwgnv32tkbw0000gn/T/ipykernel_22243/2576113641.py:80: PerformanceWarning: DataFrame is highly fragmented.  This is usually the result of calling `frame.insert` many times, which has poor performance.  Consider joining all columns at once using pd.concat(axis=1) instead. To get a de-fragmented frame, use `newframe = frame.copy()`\n",
      "  analysis_data[f'{symbol}_Certainty'] = (\n"
     ]
    },
    {
     "name": "stdout",
     "output_type": "stream",
     "text": [
      "ANSS - Sentiment: [0.], Momentum: [ 0.00108837 -0.02824859  0.00581395 ... -0.00548662  0.0082474\n",
      "  0.00281882]\n"
     ]
    },
    {
     "name": "stderr",
     "output_type": "stream",
     "text": [
      "[*********************100%%**********************]  1 of 1 completed\n",
      "/var/folders/px/1fx__yfn2k74kgwgnv32tkbw0000gn/T/ipykernel_22243/2576113641.py:56: PerformanceWarning: DataFrame is highly fragmented.  This is usually the result of calling `frame.insert` many times, which has poor performance.  Consider joining all columns at once using pd.concat(axis=1) instead. To get a de-fragmented frame, use `newframe = frame.copy()`\n",
      "  analysis_data[f'{symbol}_Momentum'] = stock_data.pct_change()\n",
      "/var/folders/px/1fx__yfn2k74kgwgnv32tkbw0000gn/T/ipykernel_22243/2576113641.py:67: PerformanceWarning: DataFrame is highly fragmented.  This is usually the result of calling `frame.insert` many times, which has poor performance.  Consider joining all columns at once using pd.concat(axis=1) instead. To get a de-fragmented frame, use `newframe = frame.copy()`\n",
      "  analysis_data[f'{symbol}_Sentiment'] = sentiment_scores\n",
      "/var/folders/px/1fx__yfn2k74kgwgnv32tkbw0000gn/T/ipykernel_22243/2576113641.py:74: PerformanceWarning: DataFrame is highly fragmented.  This is usually the result of calling `frame.insert` many times, which has poor performance.  Consider joining all columns at once using pd.concat(axis=1) instead. To get a de-fragmented frame, use `newframe = frame.copy()`\n",
      "  analysis_data[f'{symbol}_Target'] = pd.cut(closing_price_change, bins=[float('-inf'), 0, float('inf')], labels=[-1, 1])\n",
      "/var/folders/px/1fx__yfn2k74kgwgnv32tkbw0000gn/T/ipykernel_22243/2576113641.py:80: PerformanceWarning: DataFrame is highly fragmented.  This is usually the result of calling `frame.insert` many times, which has poor performance.  Consider joining all columns at once using pd.concat(axis=1) instead. To get a de-fragmented frame, use `newframe = frame.copy()`\n",
      "  analysis_data[f'{symbol}_Certainty'] = (\n"
     ]
    },
    {
     "name": "stdout",
     "output_type": "stream",
     "text": [
      "AON - Sentiment: [0.], Momentum: [ 0.00056877 -0.02243555  0.02950782 ...  0.00096687 -0.00193187\n",
      "  0.00591062]\n"
     ]
    },
    {
     "name": "stderr",
     "output_type": "stream",
     "text": [
      "[*********************100%%**********************]  1 of 1 completed\n",
      "/var/folders/px/1fx__yfn2k74kgwgnv32tkbw0000gn/T/ipykernel_22243/2576113641.py:56: PerformanceWarning: DataFrame is highly fragmented.  This is usually the result of calling `frame.insert` many times, which has poor performance.  Consider joining all columns at once using pd.concat(axis=1) instead. To get a de-fragmented frame, use `newframe = frame.copy()`\n",
      "  analysis_data[f'{symbol}_Momentum'] = stock_data.pct_change()\n",
      "/var/folders/px/1fx__yfn2k74kgwgnv32tkbw0000gn/T/ipykernel_22243/2576113641.py:67: PerformanceWarning: DataFrame is highly fragmented.  This is usually the result of calling `frame.insert` many times, which has poor performance.  Consider joining all columns at once using pd.concat(axis=1) instead. To get a de-fragmented frame, use `newframe = frame.copy()`\n",
      "  analysis_data[f'{symbol}_Sentiment'] = sentiment_scores\n",
      "/var/folders/px/1fx__yfn2k74kgwgnv32tkbw0000gn/T/ipykernel_22243/2576113641.py:74: PerformanceWarning: DataFrame is highly fragmented.  This is usually the result of calling `frame.insert` many times, which has poor performance.  Consider joining all columns at once using pd.concat(axis=1) instead. To get a de-fragmented frame, use `newframe = frame.copy()`\n",
      "  analysis_data[f'{symbol}_Target'] = pd.cut(closing_price_change, bins=[float('-inf'), 0, float('inf')], labels=[-1, 1])\n",
      "/var/folders/px/1fx__yfn2k74kgwgnv32tkbw0000gn/T/ipykernel_22243/2576113641.py:80: PerformanceWarning: DataFrame is highly fragmented.  This is usually the result of calling `frame.insert` many times, which has poor performance.  Consider joining all columns at once using pd.concat(axis=1) instead. To get a de-fragmented frame, use `newframe = frame.copy()`\n",
      "  analysis_data[f'{symbol}_Certainty'] = (\n"
     ]
    },
    {
     "name": "stdout",
     "output_type": "stream",
     "text": [
      "AAPL - Sentiment: [0.], Momentum: [ 0.0012181  -0.08430995  0.01463294 ...  0.0005179   0.00222628\n",
      " -0.00542411]\n"
     ]
    },
    {
     "name": "stderr",
     "output_type": "stream",
     "text": [
      "[*********************100%%**********************]  1 of 1 completed\n",
      "/var/folders/px/1fx__yfn2k74kgwgnv32tkbw0000gn/T/ipykernel_22243/2576113641.py:56: PerformanceWarning: DataFrame is highly fragmented.  This is usually the result of calling `frame.insert` many times, which has poor performance.  Consider joining all columns at once using pd.concat(axis=1) instead. To get a de-fragmented frame, use `newframe = frame.copy()`\n",
      "  analysis_data[f'{symbol}_Momentum'] = stock_data.pct_change()\n",
      "/var/folders/px/1fx__yfn2k74kgwgnv32tkbw0000gn/T/ipykernel_22243/2576113641.py:67: PerformanceWarning: DataFrame is highly fragmented.  This is usually the result of calling `frame.insert` many times, which has poor performance.  Consider joining all columns at once using pd.concat(axis=1) instead. To get a de-fragmented frame, use `newframe = frame.copy()`\n",
      "  analysis_data[f'{symbol}_Sentiment'] = sentiment_scores\n",
      "/var/folders/px/1fx__yfn2k74kgwgnv32tkbw0000gn/T/ipykernel_22243/2576113641.py:74: PerformanceWarning: DataFrame is highly fragmented.  This is usually the result of calling `frame.insert` many times, which has poor performance.  Consider joining all columns at once using pd.concat(axis=1) instead. To get a de-fragmented frame, use `newframe = frame.copy()`\n",
      "  analysis_data[f'{symbol}_Target'] = pd.cut(closing_price_change, bins=[float('-inf'), 0, float('inf')], labels=[-1, 1])\n",
      "/var/folders/px/1fx__yfn2k74kgwgnv32tkbw0000gn/T/ipykernel_22243/2576113641.py:80: PerformanceWarning: DataFrame is highly fragmented.  This is usually the result of calling `frame.insert` many times, which has poor performance.  Consider joining all columns at once using pd.concat(axis=1) instead. To get a de-fragmented frame, use `newframe = frame.copy()`\n",
      "  analysis_data[f'{symbol}_Certainty'] = (\n"
     ]
    },
    {
     "name": "stdout",
     "output_type": "stream",
     "text": [
      "AMAT - Sentiment: [0.], Momentum: [ 0.00070159 -0.04940742 -0.03742205 ... -0.00042603 -0.00663799\n",
      " -0.00643685]\n"
     ]
    },
    {
     "name": "stderr",
     "output_type": "stream",
     "text": [
      "[*********************100%%**********************]  1 of 1 completed\n",
      "/var/folders/px/1fx__yfn2k74kgwgnv32tkbw0000gn/T/ipykernel_22243/2576113641.py:56: PerformanceWarning: DataFrame is highly fragmented.  This is usually the result of calling `frame.insert` many times, which has poor performance.  Consider joining all columns at once using pd.concat(axis=1) instead. To get a de-fragmented frame, use `newframe = frame.copy()`\n",
      "  analysis_data[f'{symbol}_Momentum'] = stock_data.pct_change()\n",
      "/var/folders/px/1fx__yfn2k74kgwgnv32tkbw0000gn/T/ipykernel_22243/2576113641.py:67: PerformanceWarning: DataFrame is highly fragmented.  This is usually the result of calling `frame.insert` many times, which has poor performance.  Consider joining all columns at once using pd.concat(axis=1) instead. To get a de-fragmented frame, use `newframe = frame.copy()`\n",
      "  analysis_data[f'{symbol}_Sentiment'] = sentiment_scores\n",
      "/var/folders/px/1fx__yfn2k74kgwgnv32tkbw0000gn/T/ipykernel_22243/2576113641.py:74: PerformanceWarning: DataFrame is highly fragmented.  This is usually the result of calling `frame.insert` many times, which has poor performance.  Consider joining all columns at once using pd.concat(axis=1) instead. To get a de-fragmented frame, use `newframe = frame.copy()`\n",
      "  analysis_data[f'{symbol}_Target'] = pd.cut(closing_price_change, bins=[float('-inf'), 0, float('inf')], labels=[-1, 1])\n",
      "/var/folders/px/1fx__yfn2k74kgwgnv32tkbw0000gn/T/ipykernel_22243/2576113641.py:80: PerformanceWarning: DataFrame is highly fragmented.  This is usually the result of calling `frame.insert` many times, which has poor performance.  Consider joining all columns at once using pd.concat(axis=1) instead. To get a de-fragmented frame, use `newframe = frame.copy()`\n",
      "  analysis_data[f'{symbol}_Certainty'] = (\n"
     ]
    },
    {
     "name": "stdout",
     "output_type": "stream",
     "text": [
      "APTV - Sentiment: [0.], Momentum: [ 0.00082914 -0.01547149 -0.03333342 ...  0.00212427  0.00937191\n",
      " -0.00829004]\n"
     ]
    },
    {
     "name": "stderr",
     "output_type": "stream",
     "text": [
      "[*********************100%%**********************]  1 of 1 completed\n",
      "/var/folders/px/1fx__yfn2k74kgwgnv32tkbw0000gn/T/ipykernel_22243/2576113641.py:56: PerformanceWarning: DataFrame is highly fragmented.  This is usually the result of calling `frame.insert` many times, which has poor performance.  Consider joining all columns at once using pd.concat(axis=1) instead. To get a de-fragmented frame, use `newframe = frame.copy()`\n",
      "  analysis_data[f'{symbol}_Momentum'] = stock_data.pct_change()\n",
      "/var/folders/px/1fx__yfn2k74kgwgnv32tkbw0000gn/T/ipykernel_22243/2576113641.py:67: PerformanceWarning: DataFrame is highly fragmented.  This is usually the result of calling `frame.insert` many times, which has poor performance.  Consider joining all columns at once using pd.concat(axis=1) instead. To get a de-fragmented frame, use `newframe = frame.copy()`\n",
      "  analysis_data[f'{symbol}_Sentiment'] = sentiment_scores\n",
      "/var/folders/px/1fx__yfn2k74kgwgnv32tkbw0000gn/T/ipykernel_22243/2576113641.py:74: PerformanceWarning: DataFrame is highly fragmented.  This is usually the result of calling `frame.insert` many times, which has poor performance.  Consider joining all columns at once using pd.concat(axis=1) instead. To get a de-fragmented frame, use `newframe = frame.copy()`\n",
      "  analysis_data[f'{symbol}_Target'] = pd.cut(closing_price_change, bins=[float('-inf'), 0, float('inf')], labels=[-1, 1])\n",
      "/var/folders/px/1fx__yfn2k74kgwgnv32tkbw0000gn/T/ipykernel_22243/2576113641.py:80: PerformanceWarning: DataFrame is highly fragmented.  This is usually the result of calling `frame.insert` many times, which has poor performance.  Consider joining all columns at once using pd.concat(axis=1) instead. To get a de-fragmented frame, use `newframe = frame.copy()`\n",
      "  analysis_data[f'{symbol}_Certainty'] = (\n"
     ]
    },
    {
     "name": "stdout",
     "output_type": "stream",
     "text": [
      "ACGL - Sentiment: [0.], Momentum: [ 0.00081349 -0.00543523  0.0928965  ...  0.00040809  0.00707094\n",
      "  0.00283553]\n"
     ]
    },
    {
     "name": "stderr",
     "output_type": "stream",
     "text": [
      "[*********************100%%**********************]  1 of 1 completed\n",
      "/var/folders/px/1fx__yfn2k74kgwgnv32tkbw0000gn/T/ipykernel_22243/2576113641.py:56: PerformanceWarning: DataFrame is highly fragmented.  This is usually the result of calling `frame.insert` many times, which has poor performance.  Consider joining all columns at once using pd.concat(axis=1) instead. To get a de-fragmented frame, use `newframe = frame.copy()`\n",
      "  analysis_data[f'{symbol}_Momentum'] = stock_data.pct_change()\n",
      "/var/folders/px/1fx__yfn2k74kgwgnv32tkbw0000gn/T/ipykernel_22243/2576113641.py:67: PerformanceWarning: DataFrame is highly fragmented.  This is usually the result of calling `frame.insert` many times, which has poor performance.  Consider joining all columns at once using pd.concat(axis=1) instead. To get a de-fragmented frame, use `newframe = frame.copy()`\n",
      "  analysis_data[f'{symbol}_Sentiment'] = sentiment_scores\n",
      "/var/folders/px/1fx__yfn2k74kgwgnv32tkbw0000gn/T/ipykernel_22243/2576113641.py:74: PerformanceWarning: DataFrame is highly fragmented.  This is usually the result of calling `frame.insert` many times, which has poor performance.  Consider joining all columns at once using pd.concat(axis=1) instead. To get a de-fragmented frame, use `newframe = frame.copy()`\n",
      "  analysis_data[f'{symbol}_Target'] = pd.cut(closing_price_change, bins=[float('-inf'), 0, float('inf')], labels=[-1, 1])\n",
      "/var/folders/px/1fx__yfn2k74kgwgnv32tkbw0000gn/T/ipykernel_22243/2576113641.py:80: PerformanceWarning: DataFrame is highly fragmented.  This is usually the result of calling `frame.insert` many times, which has poor performance.  Consider joining all columns at once using pd.concat(axis=1) instead. To get a de-fragmented frame, use `newframe = frame.copy()`\n",
      "  analysis_data[f'{symbol}_Certainty'] = (\n",
      "[*********************100%%**********************]  1 of 1 completed"
     ]
    },
    {
     "name": "stdout",
     "output_type": "stream",
     "text": [
      "ADM - Sentiment: [0.], Momentum: [ 0.00058354 -0.01041715 -0.01578924 ... -0.00303902  0.00138557\n",
      " -0.00069183]\n"
     ]
    },
    {
     "name": "stderr",
     "output_type": "stream",
     "text": [
      "\n",
      "/var/folders/px/1fx__yfn2k74kgwgnv32tkbw0000gn/T/ipykernel_22243/2576113641.py:56: PerformanceWarning: DataFrame is highly fragmented.  This is usually the result of calling `frame.insert` many times, which has poor performance.  Consider joining all columns at once using pd.concat(axis=1) instead. To get a de-fragmented frame, use `newframe = frame.copy()`\n",
      "  analysis_data[f'{symbol}_Momentum'] = stock_data.pct_change()\n",
      "/var/folders/px/1fx__yfn2k74kgwgnv32tkbw0000gn/T/ipykernel_22243/2576113641.py:67: PerformanceWarning: DataFrame is highly fragmented.  This is usually the result of calling `frame.insert` many times, which has poor performance.  Consider joining all columns at once using pd.concat(axis=1) instead. To get a de-fragmented frame, use `newframe = frame.copy()`\n",
      "  analysis_data[f'{symbol}_Sentiment'] = sentiment_scores\n",
      "/var/folders/px/1fx__yfn2k74kgwgnv32tkbw0000gn/T/ipykernel_22243/2576113641.py:74: PerformanceWarning: DataFrame is highly fragmented.  This is usually the result of calling `frame.insert` many times, which has poor performance.  Consider joining all columns at once using pd.concat(axis=1) instead. To get a de-fragmented frame, use `newframe = frame.copy()`\n",
      "  analysis_data[f'{symbol}_Target'] = pd.cut(closing_price_change, bins=[float('-inf'), 0, float('inf')], labels=[-1, 1])\n",
      "/var/folders/px/1fx__yfn2k74kgwgnv32tkbw0000gn/T/ipykernel_22243/2576113641.py:80: PerformanceWarning: DataFrame is highly fragmented.  This is usually the result of calling `frame.insert` many times, which has poor performance.  Consider joining all columns at once using pd.concat(axis=1) instead. To get a de-fragmented frame, use `newframe = frame.copy()`\n",
      "  analysis_data[f'{symbol}_Certainty'] = (\n"
     ]
    },
    {
     "name": "stdout",
     "output_type": "stream",
     "text": [
      "ANET - Sentiment: [0.], Momentum: [ 0.00156091  0.00363638  0.08695651 ...  0.00084199 -0.00319688\n",
      " -0.00616115]\n"
     ]
    },
    {
     "name": "stderr",
     "output_type": "stream",
     "text": [
      "[*********************100%%**********************]  1 of 1 completed\n",
      "/var/folders/px/1fx__yfn2k74kgwgnv32tkbw0000gn/T/ipykernel_22243/2576113641.py:56: PerformanceWarning: DataFrame is highly fragmented.  This is usually the result of calling `frame.insert` many times, which has poor performance.  Consider joining all columns at once using pd.concat(axis=1) instead. To get a de-fragmented frame, use `newframe = frame.copy()`\n",
      "  analysis_data[f'{symbol}_Momentum'] = stock_data.pct_change()\n",
      "/var/folders/px/1fx__yfn2k74kgwgnv32tkbw0000gn/T/ipykernel_22243/2576113641.py:67: PerformanceWarning: DataFrame is highly fragmented.  This is usually the result of calling `frame.insert` many times, which has poor performance.  Consider joining all columns at once using pd.concat(axis=1) instead. To get a de-fragmented frame, use `newframe = frame.copy()`\n",
      "  analysis_data[f'{symbol}_Sentiment'] = sentiment_scores\n",
      "/var/folders/px/1fx__yfn2k74kgwgnv32tkbw0000gn/T/ipykernel_22243/2576113641.py:74: PerformanceWarning: DataFrame is highly fragmented.  This is usually the result of calling `frame.insert` many times, which has poor performance.  Consider joining all columns at once using pd.concat(axis=1) instead. To get a de-fragmented frame, use `newframe = frame.copy()`\n",
      "  analysis_data[f'{symbol}_Target'] = pd.cut(closing_price_change, bins=[float('-inf'), 0, float('inf')], labels=[-1, 1])\n",
      "/var/folders/px/1fx__yfn2k74kgwgnv32tkbw0000gn/T/ipykernel_22243/2576113641.py:80: PerformanceWarning: DataFrame is highly fragmented.  This is usually the result of calling `frame.insert` many times, which has poor performance.  Consider joining all columns at once using pd.concat(axis=1) instead. To get a de-fragmented frame, use `newframe = frame.copy()`\n",
      "  analysis_data[f'{symbol}_Certainty'] = (\n"
     ]
    },
    {
     "name": "stdout",
     "output_type": "stream",
     "text": [
      "AJG - Sentiment: [0.], Momentum: [ 0.000697   -0.04518615  0.00411505 ...  0.00292316  0.0020179\n",
      "  0.0063546 ]\n"
     ]
    },
    {
     "name": "stderr",
     "output_type": "stream",
     "text": [
      "[*********************100%%**********************]  1 of 1 completed\n",
      "/var/folders/px/1fx__yfn2k74kgwgnv32tkbw0000gn/T/ipykernel_22243/2576113641.py:56: PerformanceWarning: DataFrame is highly fragmented.  This is usually the result of calling `frame.insert` many times, which has poor performance.  Consider joining all columns at once using pd.concat(axis=1) instead. To get a de-fragmented frame, use `newframe = frame.copy()`\n",
      "  analysis_data[f'{symbol}_Momentum'] = stock_data.pct_change()\n",
      "/var/folders/px/1fx__yfn2k74kgwgnv32tkbw0000gn/T/ipykernel_22243/2576113641.py:67: PerformanceWarning: DataFrame is highly fragmented.  This is usually the result of calling `frame.insert` many times, which has poor performance.  Consider joining all columns at once using pd.concat(axis=1) instead. To get a de-fragmented frame, use `newframe = frame.copy()`\n",
      "  analysis_data[f'{symbol}_Sentiment'] = sentiment_scores\n",
      "/var/folders/px/1fx__yfn2k74kgwgnv32tkbw0000gn/T/ipykernel_22243/2576113641.py:74: PerformanceWarning: DataFrame is highly fragmented.  This is usually the result of calling `frame.insert` many times, which has poor performance.  Consider joining all columns at once using pd.concat(axis=1) instead. To get a de-fragmented frame, use `newframe = frame.copy()`\n",
      "  analysis_data[f'{symbol}_Target'] = pd.cut(closing_price_change, bins=[float('-inf'), 0, float('inf')], labels=[-1, 1])\n",
      "/var/folders/px/1fx__yfn2k74kgwgnv32tkbw0000gn/T/ipykernel_22243/2576113641.py:80: PerformanceWarning: DataFrame is highly fragmented.  This is usually the result of calling `frame.insert` many times, which has poor performance.  Consider joining all columns at once using pd.concat(axis=1) instead. To get a de-fragmented frame, use `newframe = frame.copy()`\n",
      "  analysis_data[f'{symbol}_Certainty'] = (\n"
     ]
    },
    {
     "name": "stdout",
     "output_type": "stream",
     "text": [
      "AIZ - Sentiment: [0.], Momentum: [ 0.00066111  0.00607342 -0.01529205 ...  0.00036073  0.0101581\n",
      "  0.00255864]\n"
     ]
    },
    {
     "name": "stderr",
     "output_type": "stream",
     "text": [
      "[*********************100%%**********************]  1 of 1 completed\n",
      "/var/folders/px/1fx__yfn2k74kgwgnv32tkbw0000gn/T/ipykernel_22243/2576113641.py:56: PerformanceWarning: DataFrame is highly fragmented.  This is usually the result of calling `frame.insert` many times, which has poor performance.  Consider joining all columns at once using pd.concat(axis=1) instead. To get a de-fragmented frame, use `newframe = frame.copy()`\n",
      "  analysis_data[f'{symbol}_Momentum'] = stock_data.pct_change()\n",
      "/var/folders/px/1fx__yfn2k74kgwgnv32tkbw0000gn/T/ipykernel_22243/2576113641.py:67: PerformanceWarning: DataFrame is highly fragmented.  This is usually the result of calling `frame.insert` many times, which has poor performance.  Consider joining all columns at once using pd.concat(axis=1) instead. To get a de-fragmented frame, use `newframe = frame.copy()`\n",
      "  analysis_data[f'{symbol}_Sentiment'] = sentiment_scores\n",
      "/var/folders/px/1fx__yfn2k74kgwgnv32tkbw0000gn/T/ipykernel_22243/2576113641.py:74: PerformanceWarning: DataFrame is highly fragmented.  This is usually the result of calling `frame.insert` many times, which has poor performance.  Consider joining all columns at once using pd.concat(axis=1) instead. To get a de-fragmented frame, use `newframe = frame.copy()`\n",
      "  analysis_data[f'{symbol}_Target'] = pd.cut(closing_price_change, bins=[float('-inf'), 0, float('inf')], labels=[-1, 1])\n",
      "/var/folders/px/1fx__yfn2k74kgwgnv32tkbw0000gn/T/ipykernel_22243/2576113641.py:80: PerformanceWarning: DataFrame is highly fragmented.  This is usually the result of calling `frame.insert` many times, which has poor performance.  Consider joining all columns at once using pd.concat(axis=1) instead. To get a de-fragmented frame, use `newframe = frame.copy()`\n",
      "  analysis_data[f'{symbol}_Certainty'] = (\n"
     ]
    },
    {
     "name": "stdout",
     "output_type": "stream",
     "text": [
      "ATO - Sentiment: [0.], Momentum: [ 0.00054155 -0.02492224  0.0319484  ...  0.00094981  0.00138028\n",
      " -0.00155061]\n"
     ]
    },
    {
     "name": "stderr",
     "output_type": "stream",
     "text": [
      "[*********************100%%**********************]  1 of 1 completed\n",
      "/var/folders/px/1fx__yfn2k74kgwgnv32tkbw0000gn/T/ipykernel_22243/2576113641.py:56: PerformanceWarning: DataFrame is highly fragmented.  This is usually the result of calling `frame.insert` many times, which has poor performance.  Consider joining all columns at once using pd.concat(axis=1) instead. To get a de-fragmented frame, use `newframe = frame.copy()`\n",
      "  analysis_data[f'{symbol}_Momentum'] = stock_data.pct_change()\n",
      "/var/folders/px/1fx__yfn2k74kgwgnv32tkbw0000gn/T/ipykernel_22243/2576113641.py:67: PerformanceWarning: DataFrame is highly fragmented.  This is usually the result of calling `frame.insert` many times, which has poor performance.  Consider joining all columns at once using pd.concat(axis=1) instead. To get a de-fragmented frame, use `newframe = frame.copy()`\n",
      "  analysis_data[f'{symbol}_Sentiment'] = sentiment_scores\n",
      "/var/folders/px/1fx__yfn2k74kgwgnv32tkbw0000gn/T/ipykernel_22243/2576113641.py:74: PerformanceWarning: DataFrame is highly fragmented.  This is usually the result of calling `frame.insert` many times, which has poor performance.  Consider joining all columns at once using pd.concat(axis=1) instead. To get a de-fragmented frame, use `newframe = frame.copy()`\n",
      "  analysis_data[f'{symbol}_Target'] = pd.cut(closing_price_change, bins=[float('-inf'), 0, float('inf')], labels=[-1, 1])\n",
      "/var/folders/px/1fx__yfn2k74kgwgnv32tkbw0000gn/T/ipykernel_22243/2576113641.py:80: PerformanceWarning: DataFrame is highly fragmented.  This is usually the result of calling `frame.insert` many times, which has poor performance.  Consider joining all columns at once using pd.concat(axis=1) instead. To get a de-fragmented frame, use `newframe = frame.copy()`\n",
      "  analysis_data[f'{symbol}_Certainty'] = (\n"
     ]
    },
    {
     "name": "stdout",
     "output_type": "stream",
     "text": [
      "AZO - Sentiment: [0.], Momentum: [ 0.00089229 -0.00408998 -0.00410678 ...  0.00154122 -0.00220344\n",
      "  0.0069948 ]\n"
     ]
    },
    {
     "name": "stderr",
     "output_type": "stream",
     "text": [
      "[*********************100%%**********************]  1 of 1 completed\n",
      "/var/folders/px/1fx__yfn2k74kgwgnv32tkbw0000gn/T/ipykernel_22243/2576113641.py:56: PerformanceWarning: DataFrame is highly fragmented.  This is usually the result of calling `frame.insert` many times, which has poor performance.  Consider joining all columns at once using pd.concat(axis=1) instead. To get a de-fragmented frame, use `newframe = frame.copy()`\n",
      "  analysis_data[f'{symbol}_Momentum'] = stock_data.pct_change()\n",
      "/var/folders/px/1fx__yfn2k74kgwgnv32tkbw0000gn/T/ipykernel_22243/2576113641.py:67: PerformanceWarning: DataFrame is highly fragmented.  This is usually the result of calling `frame.insert` many times, which has poor performance.  Consider joining all columns at once using pd.concat(axis=1) instead. To get a de-fragmented frame, use `newframe = frame.copy()`\n",
      "  analysis_data[f'{symbol}_Sentiment'] = sentiment_scores\n",
      "/var/folders/px/1fx__yfn2k74kgwgnv32tkbw0000gn/T/ipykernel_22243/2576113641.py:74: PerformanceWarning: DataFrame is highly fragmented.  This is usually the result of calling `frame.insert` many times, which has poor performance.  Consider joining all columns at once using pd.concat(axis=1) instead. To get a de-fragmented frame, use `newframe = frame.copy()`\n",
      "  analysis_data[f'{symbol}_Target'] = pd.cut(closing_price_change, bins=[float('-inf'), 0, float('inf')], labels=[-1, 1])\n",
      "/var/folders/px/1fx__yfn2k74kgwgnv32tkbw0000gn/T/ipykernel_22243/2576113641.py:80: PerformanceWarning: DataFrame is highly fragmented.  This is usually the result of calling `frame.insert` many times, which has poor performance.  Consider joining all columns at once using pd.concat(axis=1) instead. To get a de-fragmented frame, use `newframe = frame.copy()`\n",
      "  analysis_data[f'{symbol}_Certainty'] = (\n"
     ]
    },
    {
     "name": "stdout",
     "output_type": "stream",
     "text": [
      "ADSK - Sentiment: [0.], Momentum: [ 0.00090815 -0.04868924 -0.062992   ...  0.00016319 -0.00081595\n",
      " -0.00583891]\n"
     ]
    },
    {
     "name": "stderr",
     "output_type": "stream",
     "text": [
      "[*********************100%%**********************]  1 of 1 completed\n",
      "/var/folders/px/1fx__yfn2k74kgwgnv32tkbw0000gn/T/ipykernel_22243/2576113641.py:56: PerformanceWarning: DataFrame is highly fragmented.  This is usually the result of calling `frame.insert` many times, which has poor performance.  Consider joining all columns at once using pd.concat(axis=1) instead. To get a de-fragmented frame, use `newframe = frame.copy()`\n",
      "  analysis_data[f'{symbol}_Momentum'] = stock_data.pct_change()\n",
      "/var/folders/px/1fx__yfn2k74kgwgnv32tkbw0000gn/T/ipykernel_22243/2576113641.py:67: PerformanceWarning: DataFrame is highly fragmented.  This is usually the result of calling `frame.insert` many times, which has poor performance.  Consider joining all columns at once using pd.concat(axis=1) instead. To get a de-fragmented frame, use `newframe = frame.copy()`\n",
      "  analysis_data[f'{symbol}_Sentiment'] = sentiment_scores\n",
      "/var/folders/px/1fx__yfn2k74kgwgnv32tkbw0000gn/T/ipykernel_22243/2576113641.py:74: PerformanceWarning: DataFrame is highly fragmented.  This is usually the result of calling `frame.insert` many times, which has poor performance.  Consider joining all columns at once using pd.concat(axis=1) instead. To get a de-fragmented frame, use `newframe = frame.copy()`\n",
      "  analysis_data[f'{symbol}_Target'] = pd.cut(closing_price_change, bins=[float('-inf'), 0, float('inf')], labels=[-1, 1])\n",
      "/var/folders/px/1fx__yfn2k74kgwgnv32tkbw0000gn/T/ipykernel_22243/2576113641.py:80: PerformanceWarning: DataFrame is highly fragmented.  This is usually the result of calling `frame.insert` many times, which has poor performance.  Consider joining all columns at once using pd.concat(axis=1) instead. To get a de-fragmented frame, use `newframe = frame.copy()`\n",
      "  analysis_data[f'{symbol}_Certainty'] = (\n"
     ]
    },
    {
     "name": "stdout",
     "output_type": "stream",
     "text": [
      "ADP - Sentiment: [0.], Momentum: [ 0.00049767  0.         -0.00961553 ... -0.00399928  0.00379951\n",
      "  0.00206459]\n"
     ]
    },
    {
     "name": "stderr",
     "output_type": "stream",
     "text": [
      "[*********************100%%**********************]  1 of 1 completed\n",
      "/var/folders/px/1fx__yfn2k74kgwgnv32tkbw0000gn/T/ipykernel_22243/2576113641.py:56: PerformanceWarning: DataFrame is highly fragmented.  This is usually the result of calling `frame.insert` many times, which has poor performance.  Consider joining all columns at once using pd.concat(axis=1) instead. To get a de-fragmented frame, use `newframe = frame.copy()`\n",
      "  analysis_data[f'{symbol}_Momentum'] = stock_data.pct_change()\n",
      "/var/folders/px/1fx__yfn2k74kgwgnv32tkbw0000gn/T/ipykernel_22243/2576113641.py:67: PerformanceWarning: DataFrame is highly fragmented.  This is usually the result of calling `frame.insert` many times, which has poor performance.  Consider joining all columns at once using pd.concat(axis=1) instead. To get a de-fragmented frame, use `newframe = frame.copy()`\n",
      "  analysis_data[f'{symbol}_Sentiment'] = sentiment_scores\n",
      "/var/folders/px/1fx__yfn2k74kgwgnv32tkbw0000gn/T/ipykernel_22243/2576113641.py:74: PerformanceWarning: DataFrame is highly fragmented.  This is usually the result of calling `frame.insert` many times, which has poor performance.  Consider joining all columns at once using pd.concat(axis=1) instead. To get a de-fragmented frame, use `newframe = frame.copy()`\n",
      "  analysis_data[f'{symbol}_Target'] = pd.cut(closing_price_change, bins=[float('-inf'), 0, float('inf')], labels=[-1, 1])\n",
      "/var/folders/px/1fx__yfn2k74kgwgnv32tkbw0000gn/T/ipykernel_22243/2576113641.py:80: PerformanceWarning: DataFrame is highly fragmented.  This is usually the result of calling `frame.insert` many times, which has poor performance.  Consider joining all columns at once using pd.concat(axis=1) instead. To get a de-fragmented frame, use `newframe = frame.copy()`\n",
      "  analysis_data[f'{symbol}_Certainty'] = (\n"
     ]
    },
    {
     "name": "stdout",
     "output_type": "stream",
     "text": [
      "AVB - Sentiment: [0.], Momentum: [ 0.00062419 -0.02209882  0.00941583 ...  0.00669399  0.00936965\n",
      " -0.01255277]\n"
     ]
    },
    {
     "name": "stderr",
     "output_type": "stream",
     "text": [
      "[*********************100%%**********************]  1 of 1 completed\n",
      "/var/folders/px/1fx__yfn2k74kgwgnv32tkbw0000gn/T/ipykernel_22243/2576113641.py:56: PerformanceWarning: DataFrame is highly fragmented.  This is usually the result of calling `frame.insert` many times, which has poor performance.  Consider joining all columns at once using pd.concat(axis=1) instead. To get a de-fragmented frame, use `newframe = frame.copy()`\n",
      "  analysis_data[f'{symbol}_Momentum'] = stock_data.pct_change()\n",
      "/var/folders/px/1fx__yfn2k74kgwgnv32tkbw0000gn/T/ipykernel_22243/2576113641.py:67: PerformanceWarning: DataFrame is highly fragmented.  This is usually the result of calling `frame.insert` many times, which has poor performance.  Consider joining all columns at once using pd.concat(axis=1) instead. To get a de-fragmented frame, use `newframe = frame.copy()`\n",
      "  analysis_data[f'{symbol}_Sentiment'] = sentiment_scores\n",
      "/var/folders/px/1fx__yfn2k74kgwgnv32tkbw0000gn/T/ipykernel_22243/2576113641.py:74: PerformanceWarning: DataFrame is highly fragmented.  This is usually the result of calling `frame.insert` many times, which has poor performance.  Consider joining all columns at once using pd.concat(axis=1) instead. To get a de-fragmented frame, use `newframe = frame.copy()`\n",
      "  analysis_data[f'{symbol}_Target'] = pd.cut(closing_price_change, bins=[float('-inf'), 0, float('inf')], labels=[-1, 1])\n",
      "/var/folders/px/1fx__yfn2k74kgwgnv32tkbw0000gn/T/ipykernel_22243/2576113641.py:80: PerformanceWarning: DataFrame is highly fragmented.  This is usually the result of calling `frame.insert` many times, which has poor performance.  Consider joining all columns at once using pd.concat(axis=1) instead. To get a de-fragmented frame, use `newframe = frame.copy()`\n",
      "  analysis_data[f'{symbol}_Certainty'] = (\n"
     ]
    },
    {
     "name": "stdout",
     "output_type": "stream",
     "text": [
      "AVY - Sentiment: [0.], Momentum: [ 0.00044502 -0.01313498  0.03283021 ...  0.00421004  0.00014796\n",
      " -0.00305748]\n"
     ]
    },
    {
     "name": "stderr",
     "output_type": "stream",
     "text": [
      "[*********************100%%**********************]  1 of 1 completed\n",
      "/var/folders/px/1fx__yfn2k74kgwgnv32tkbw0000gn/T/ipykernel_22243/2576113641.py:56: PerformanceWarning: DataFrame is highly fragmented.  This is usually the result of calling `frame.insert` many times, which has poor performance.  Consider joining all columns at once using pd.concat(axis=1) instead. To get a de-fragmented frame, use `newframe = frame.copy()`\n",
      "  analysis_data[f'{symbol}_Momentum'] = stock_data.pct_change()\n",
      "/var/folders/px/1fx__yfn2k74kgwgnv32tkbw0000gn/T/ipykernel_22243/2576113641.py:67: PerformanceWarning: DataFrame is highly fragmented.  This is usually the result of calling `frame.insert` many times, which has poor performance.  Consider joining all columns at once using pd.concat(axis=1) instead. To get a de-fragmented frame, use `newframe = frame.copy()`\n",
      "  analysis_data[f'{symbol}_Sentiment'] = sentiment_scores\n",
      "/var/folders/px/1fx__yfn2k74kgwgnv32tkbw0000gn/T/ipykernel_22243/2576113641.py:74: PerformanceWarning: DataFrame is highly fragmented.  This is usually the result of calling `frame.insert` many times, which has poor performance.  Consider joining all columns at once using pd.concat(axis=1) instead. To get a de-fragmented frame, use `newframe = frame.copy()`\n",
      "  analysis_data[f'{symbol}_Target'] = pd.cut(closing_price_change, bins=[float('-inf'), 0, float('inf')], labels=[-1, 1])\n",
      "/var/folders/px/1fx__yfn2k74kgwgnv32tkbw0000gn/T/ipykernel_22243/2576113641.py:80: PerformanceWarning: DataFrame is highly fragmented.  This is usually the result of calling `frame.insert` many times, which has poor performance.  Consider joining all columns at once using pd.concat(axis=1) instead. To get a de-fragmented frame, use `newframe = frame.copy()`\n",
      "  analysis_data[f'{symbol}_Certainty'] = (\n"
     ]
    },
    {
     "name": "stdout",
     "output_type": "stream",
     "text": [
      "AXON - Sentiment: [0.], Momentum: [ 0.00184339 -0.03079785  0.         ...  0.00375809 -0.00189127\n",
      " -0.00100549]\n"
     ]
    },
    {
     "name": "stderr",
     "output_type": "stream",
     "text": [
      "[*********************100%%**********************]  1 of 1 completed\n",
      "/var/folders/px/1fx__yfn2k74kgwgnv32tkbw0000gn/T/ipykernel_22243/2576113641.py:56: PerformanceWarning: DataFrame is highly fragmented.  This is usually the result of calling `frame.insert` many times, which has poor performance.  Consider joining all columns at once using pd.concat(axis=1) instead. To get a de-fragmented frame, use `newframe = frame.copy()`\n",
      "  analysis_data[f'{symbol}_Momentum'] = stock_data.pct_change()\n",
      "/var/folders/px/1fx__yfn2k74kgwgnv32tkbw0000gn/T/ipykernel_22243/2576113641.py:67: PerformanceWarning: DataFrame is highly fragmented.  This is usually the result of calling `frame.insert` many times, which has poor performance.  Consider joining all columns at once using pd.concat(axis=1) instead. To get a de-fragmented frame, use `newframe = frame.copy()`\n",
      "  analysis_data[f'{symbol}_Sentiment'] = sentiment_scores\n",
      "/var/folders/px/1fx__yfn2k74kgwgnv32tkbw0000gn/T/ipykernel_22243/2576113641.py:74: PerformanceWarning: DataFrame is highly fragmented.  This is usually the result of calling `frame.insert` many times, which has poor performance.  Consider joining all columns at once using pd.concat(axis=1) instead. To get a de-fragmented frame, use `newframe = frame.copy()`\n",
      "  analysis_data[f'{symbol}_Target'] = pd.cut(closing_price_change, bins=[float('-inf'), 0, float('inf')], labels=[-1, 1])\n",
      "/var/folders/px/1fx__yfn2k74kgwgnv32tkbw0000gn/T/ipykernel_22243/2576113641.py:80: PerformanceWarning: DataFrame is highly fragmented.  This is usually the result of calling `frame.insert` many times, which has poor performance.  Consider joining all columns at once using pd.concat(axis=1) instead. To get a de-fragmented frame, use `newframe = frame.copy()`\n",
      "  analysis_data[f'{symbol}_Certainty'] = (\n"
     ]
    },
    {
     "name": "stdout",
     "output_type": "stream",
     "text": [
      "BKR - Sentiment: [0.], Momentum: [ 0.00054685  0.          0.00617229 ... -0.00833797 -0.0084083\n",
      " -0.0005848 ]\n"
     ]
    },
    {
     "name": "stderr",
     "output_type": "stream",
     "text": [
      "[*********************100%%**********************]  1 of 1 completed\n",
      "/var/folders/px/1fx__yfn2k74kgwgnv32tkbw0000gn/T/ipykernel_22243/2576113641.py:56: PerformanceWarning: DataFrame is highly fragmented.  This is usually the result of calling `frame.insert` many times, which has poor performance.  Consider joining all columns at once using pd.concat(axis=1) instead. To get a de-fragmented frame, use `newframe = frame.copy()`\n",
      "  analysis_data[f'{symbol}_Momentum'] = stock_data.pct_change()\n",
      "/var/folders/px/1fx__yfn2k74kgwgnv32tkbw0000gn/T/ipykernel_22243/2576113641.py:67: PerformanceWarning: DataFrame is highly fragmented.  This is usually the result of calling `frame.insert` many times, which has poor performance.  Consider joining all columns at once using pd.concat(axis=1) instead. To get a de-fragmented frame, use `newframe = frame.copy()`\n",
      "  analysis_data[f'{symbol}_Sentiment'] = sentiment_scores\n",
      "/var/folders/px/1fx__yfn2k74kgwgnv32tkbw0000gn/T/ipykernel_22243/2576113641.py:74: PerformanceWarning: DataFrame is highly fragmented.  This is usually the result of calling `frame.insert` many times, which has poor performance.  Consider joining all columns at once using pd.concat(axis=1) instead. To get a de-fragmented frame, use `newframe = frame.copy()`\n",
      "  analysis_data[f'{symbol}_Target'] = pd.cut(closing_price_change, bins=[float('-inf'), 0, float('inf')], labels=[-1, 1])\n",
      "/var/folders/px/1fx__yfn2k74kgwgnv32tkbw0000gn/T/ipykernel_22243/2576113641.py:80: PerformanceWarning: DataFrame is highly fragmented.  This is usually the result of calling `frame.insert` many times, which has poor performance.  Consider joining all columns at once using pd.concat(axis=1) instead. To get a de-fragmented frame, use `newframe = frame.copy()`\n",
      "  analysis_data[f'{symbol}_Certainty'] = (\n"
     ]
    },
    {
     "name": "stdout",
     "output_type": "stream",
     "text": [
      "BALL - Sentiment: [0.], Momentum: [ 0.00071216 -0.03296708  0.01785735 ...  0.00520742  0.00069074\n",
      " -0.00742019]\n"
     ]
    },
    {
     "name": "stderr",
     "output_type": "stream",
     "text": [
      "[*********************100%%**********************]  1 of 1 completed\n",
      "/var/folders/px/1fx__yfn2k74kgwgnv32tkbw0000gn/T/ipykernel_22243/2576113641.py:56: PerformanceWarning: DataFrame is highly fragmented.  This is usually the result of calling `frame.insert` many times, which has poor performance.  Consider joining all columns at once using pd.concat(axis=1) instead. To get a de-fragmented frame, use `newframe = frame.copy()`\n",
      "  analysis_data[f'{symbol}_Momentum'] = stock_data.pct_change()\n",
      "/var/folders/px/1fx__yfn2k74kgwgnv32tkbw0000gn/T/ipykernel_22243/2576113641.py:67: PerformanceWarning: DataFrame is highly fragmented.  This is usually the result of calling `frame.insert` many times, which has poor performance.  Consider joining all columns at once using pd.concat(axis=1) instead. To get a de-fragmented frame, use `newframe = frame.copy()`\n",
      "  analysis_data[f'{symbol}_Sentiment'] = sentiment_scores\n",
      "/var/folders/px/1fx__yfn2k74kgwgnv32tkbw0000gn/T/ipykernel_22243/2576113641.py:74: PerformanceWarning: DataFrame is highly fragmented.  This is usually the result of calling `frame.insert` many times, which has poor performance.  Consider joining all columns at once using pd.concat(axis=1) instead. To get a de-fragmented frame, use `newframe = frame.copy()`\n",
      "  analysis_data[f'{symbol}_Target'] = pd.cut(closing_price_change, bins=[float('-inf'), 0, float('inf')], labels=[-1, 1])\n",
      "/var/folders/px/1fx__yfn2k74kgwgnv32tkbw0000gn/T/ipykernel_22243/2576113641.py:80: PerformanceWarning: DataFrame is highly fragmented.  This is usually the result of calling `frame.insert` many times, which has poor performance.  Consider joining all columns at once using pd.concat(axis=1) instead. To get a de-fragmented frame, use `newframe = frame.copy()`\n",
      "  analysis_data[f'{symbol}_Certainty'] = (\n"
     ]
    },
    {
     "name": "stdout",
     "output_type": "stream",
     "text": [
      "BAC - Sentiment: [0.], Momentum: [ 0.00054675 -0.05935484  0.01097341 ... -0.00059068  0.00118206\n",
      " -0.00619843]\n"
     ]
    },
    {
     "name": "stderr",
     "output_type": "stream",
     "text": [
      "[*********************100%%**********************]  1 of 1 completed\n",
      "/var/folders/px/1fx__yfn2k74kgwgnv32tkbw0000gn/T/ipykernel_22243/2576113641.py:56: PerformanceWarning: DataFrame is highly fragmented.  This is usually the result of calling `frame.insert` many times, which has poor performance.  Consider joining all columns at once using pd.concat(axis=1) instead. To get a de-fragmented frame, use `newframe = frame.copy()`\n",
      "  analysis_data[f'{symbol}_Momentum'] = stock_data.pct_change()\n",
      "/var/folders/px/1fx__yfn2k74kgwgnv32tkbw0000gn/T/ipykernel_22243/2576113641.py:67: PerformanceWarning: DataFrame is highly fragmented.  This is usually the result of calling `frame.insert` many times, which has poor performance.  Consider joining all columns at once using pd.concat(axis=1) instead. To get a de-fragmented frame, use `newframe = frame.copy()`\n",
      "  analysis_data[f'{symbol}_Sentiment'] = sentiment_scores\n",
      "/var/folders/px/1fx__yfn2k74kgwgnv32tkbw0000gn/T/ipykernel_22243/2576113641.py:74: PerformanceWarning: DataFrame is highly fragmented.  This is usually the result of calling `frame.insert` many times, which has poor performance.  Consider joining all columns at once using pd.concat(axis=1) instead. To get a de-fragmented frame, use `newframe = frame.copy()`\n",
      "  analysis_data[f'{symbol}_Target'] = pd.cut(closing_price_change, bins=[float('-inf'), 0, float('inf')], labels=[-1, 1])\n",
      "/var/folders/px/1fx__yfn2k74kgwgnv32tkbw0000gn/T/ipykernel_22243/2576113641.py:80: PerformanceWarning: DataFrame is highly fragmented.  This is usually the result of calling `frame.insert` many times, which has poor performance.  Consider joining all columns at once using pd.concat(axis=1) instead. To get a de-fragmented frame, use `newframe = frame.copy()`\n",
      "  analysis_data[f'{symbol}_Certainty'] = (\n"
     ]
    },
    {
     "name": "stdout",
     "output_type": "stream",
     "text": [
      "BK - Sentiment: [0.], Momentum: [ 0.00040118 -0.02871614 -0.02260863 ...  0.00192412  0.00288079\n",
      " -0.00325554]\n"
     ]
    },
    {
     "name": "stderr",
     "output_type": "stream",
     "text": [
      "[*********************100%%**********************]  1 of 1 completed\n",
      "/var/folders/px/1fx__yfn2k74kgwgnv32tkbw0000gn/T/ipykernel_22243/2576113641.py:56: PerformanceWarning: DataFrame is highly fragmented.  This is usually the result of calling `frame.insert` many times, which has poor performance.  Consider joining all columns at once using pd.concat(axis=1) instead. To get a de-fragmented frame, use `newframe = frame.copy()`\n",
      "  analysis_data[f'{symbol}_Momentum'] = stock_data.pct_change()\n",
      "/var/folders/px/1fx__yfn2k74kgwgnv32tkbw0000gn/T/ipykernel_22243/2576113641.py:67: PerformanceWarning: DataFrame is highly fragmented.  This is usually the result of calling `frame.insert` many times, which has poor performance.  Consider joining all columns at once using pd.concat(axis=1) instead. To get a de-fragmented frame, use `newframe = frame.copy()`\n",
      "  analysis_data[f'{symbol}_Sentiment'] = sentiment_scores\n",
      "/var/folders/px/1fx__yfn2k74kgwgnv32tkbw0000gn/T/ipykernel_22243/2576113641.py:74: PerformanceWarning: DataFrame is highly fragmented.  This is usually the result of calling `frame.insert` many times, which has poor performance.  Consider joining all columns at once using pd.concat(axis=1) instead. To get a de-fragmented frame, use `newframe = frame.copy()`\n",
      "  analysis_data[f'{symbol}_Target'] = pd.cut(closing_price_change, bins=[float('-inf'), 0, float('inf')], labels=[-1, 1])\n",
      "/var/folders/px/1fx__yfn2k74kgwgnv32tkbw0000gn/T/ipykernel_22243/2576113641.py:80: PerformanceWarning: DataFrame is highly fragmented.  This is usually the result of calling `frame.insert` many times, which has poor performance.  Consider joining all columns at once using pd.concat(axis=1) instead. To get a de-fragmented frame, use `newframe = frame.copy()`\n",
      "  analysis_data[f'{symbol}_Certainty'] = (\n"
     ]
    },
    {
     "name": "stdout",
     "output_type": "stream",
     "text": [
      "BBWI - Sentiment: [0.], Momentum: [ 0.00072104 -0.02003078 -0.01415114 ...  0.00470478  0.00983375\n",
      "  0.00069553]\n"
     ]
    },
    {
     "name": "stderr",
     "output_type": "stream",
     "text": [
      "[*********************100%%**********************]  1 of 1 completed\n",
      "/var/folders/px/1fx__yfn2k74kgwgnv32tkbw0000gn/T/ipykernel_22243/2576113641.py:56: PerformanceWarning: DataFrame is highly fragmented.  This is usually the result of calling `frame.insert` many times, which has poor performance.  Consider joining all columns at once using pd.concat(axis=1) instead. To get a de-fragmented frame, use `newframe = frame.copy()`\n",
      "  analysis_data[f'{symbol}_Momentum'] = stock_data.pct_change()\n",
      "/var/folders/px/1fx__yfn2k74kgwgnv32tkbw0000gn/T/ipykernel_22243/2576113641.py:67: PerformanceWarning: DataFrame is highly fragmented.  This is usually the result of calling `frame.insert` many times, which has poor performance.  Consider joining all columns at once using pd.concat(axis=1) instead. To get a de-fragmented frame, use `newframe = frame.copy()`\n",
      "  analysis_data[f'{symbol}_Sentiment'] = sentiment_scores\n",
      "/var/folders/px/1fx__yfn2k74kgwgnv32tkbw0000gn/T/ipykernel_22243/2576113641.py:74: PerformanceWarning: DataFrame is highly fragmented.  This is usually the result of calling `frame.insert` many times, which has poor performance.  Consider joining all columns at once using pd.concat(axis=1) instead. To get a de-fragmented frame, use `newframe = frame.copy()`\n",
      "  analysis_data[f'{symbol}_Target'] = pd.cut(closing_price_change, bins=[float('-inf'), 0, float('inf')], labels=[-1, 1])\n",
      "/var/folders/px/1fx__yfn2k74kgwgnv32tkbw0000gn/T/ipykernel_22243/2576113641.py:80: PerformanceWarning: DataFrame is highly fragmented.  This is usually the result of calling `frame.insert` many times, which has poor performance.  Consider joining all columns at once using pd.concat(axis=1) instead. To get a de-fragmented frame, use `newframe = frame.copy()`\n",
      "  analysis_data[f'{symbol}_Certainty'] = (\n"
     ]
    },
    {
     "name": "stdout",
     "output_type": "stream",
     "text": [
      "BAX - Sentiment: [0.], Momentum: [ 0.0003576  -0.02240352  0.04374957 ...  0.00207356  0.0036213\n",
      " -0.00360823]\n"
     ]
    },
    {
     "name": "stderr",
     "output_type": "stream",
     "text": [
      "[*********************100%%**********************]  1 of 1 completed\n",
      "/var/folders/px/1fx__yfn2k74kgwgnv32tkbw0000gn/T/ipykernel_22243/2576113641.py:56: PerformanceWarning: DataFrame is highly fragmented.  This is usually the result of calling `frame.insert` many times, which has poor performance.  Consider joining all columns at once using pd.concat(axis=1) instead. To get a de-fragmented frame, use `newframe = frame.copy()`\n",
      "  analysis_data[f'{symbol}_Momentum'] = stock_data.pct_change()\n",
      "/var/folders/px/1fx__yfn2k74kgwgnv32tkbw0000gn/T/ipykernel_22243/2576113641.py:67: PerformanceWarning: DataFrame is highly fragmented.  This is usually the result of calling `frame.insert` many times, which has poor performance.  Consider joining all columns at once using pd.concat(axis=1) instead. To get a de-fragmented frame, use `newframe = frame.copy()`\n",
      "  analysis_data[f'{symbol}_Sentiment'] = sentiment_scores\n",
      "/var/folders/px/1fx__yfn2k74kgwgnv32tkbw0000gn/T/ipykernel_22243/2576113641.py:74: PerformanceWarning: DataFrame is highly fragmented.  This is usually the result of calling `frame.insert` many times, which has poor performance.  Consider joining all columns at once using pd.concat(axis=1) instead. To get a de-fragmented frame, use `newframe = frame.copy()`\n",
      "  analysis_data[f'{symbol}_Target'] = pd.cut(closing_price_change, bins=[float('-inf'), 0, float('inf')], labels=[-1, 1])\n",
      "/var/folders/px/1fx__yfn2k74kgwgnv32tkbw0000gn/T/ipykernel_22243/2576113641.py:80: PerformanceWarning: DataFrame is highly fragmented.  This is usually the result of calling `frame.insert` many times, which has poor performance.  Consider joining all columns at once using pd.concat(axis=1) instead. To get a de-fragmented frame, use `newframe = frame.copy()`\n",
      "  analysis_data[f'{symbol}_Certainty'] = (\n"
     ]
    },
    {
     "name": "stdout",
     "output_type": "stream",
     "text": [
      "BDX - Sentiment: [0.], Momentum: [ 0.00054924 -0.02625296  0.00735313 ... -0.00328813  0.00218556\n",
      "  0.00329179]\n"
     ]
    },
    {
     "name": "stderr",
     "output_type": "stream",
     "text": [
      "[*********************100%%**********************]  1 of 1 completed\n",
      "\n",
      "1 Failed download:\n",
      "['BRK.B']: Exception('%ticker%: No timezone found, symbol may be delisted')\n",
      "/var/folders/px/1fx__yfn2k74kgwgnv32tkbw0000gn/T/ipykernel_22243/2576113641.py:56: PerformanceWarning: DataFrame is highly fragmented.  This is usually the result of calling `frame.insert` many times, which has poor performance.  Consider joining all columns at once using pd.concat(axis=1) instead. To get a de-fragmented frame, use `newframe = frame.copy()`\n",
      "  analysis_data[f'{symbol}_Momentum'] = stock_data.pct_change()\n",
      "/var/folders/px/1fx__yfn2k74kgwgnv32tkbw0000gn/T/ipykernel_22243/2576113641.py:67: PerformanceWarning: DataFrame is highly fragmented.  This is usually the result of calling `frame.insert` many times, which has poor performance.  Consider joining all columns at once using pd.concat(axis=1) instead. To get a de-fragmented frame, use `newframe = frame.copy()`\n",
      "  analysis_data[f'{symbol}_Sentiment'] = sentiment_scores\n",
      "/var/folders/px/1fx__yfn2k74kgwgnv32tkbw0000gn/T/ipykernel_22243/2576113641.py:74: PerformanceWarning: DataFrame is highly fragmented.  This is usually the result of calling `frame.insert` many times, which has poor performance.  Consider joining all columns at once using pd.concat(axis=1) instead. To get a de-fragmented frame, use `newframe = frame.copy()`\n",
      "  analysis_data[f'{symbol}_Target'] = pd.cut(closing_price_change, bins=[float('-inf'), 0, float('inf')], labels=[-1, 1])\n",
      "/var/folders/px/1fx__yfn2k74kgwgnv32tkbw0000gn/T/ipykernel_22243/2576113641.py:80: PerformanceWarning: DataFrame is highly fragmented.  This is usually the result of calling `frame.insert` many times, which has poor performance.  Consider joining all columns at once using pd.concat(axis=1) instead. To get a de-fragmented frame, use `newframe = frame.copy()`\n",
      "  analysis_data[f'{symbol}_Certainty'] = (\n"
     ]
    },
    {
     "name": "stdout",
     "output_type": "stream",
     "text": [
      "BRK.B - Sentiment: [0.], Momentum: [nan]\n"
     ]
    },
    {
     "name": "stderr",
     "output_type": "stream",
     "text": [
      "[*********************100%%**********************]  1 of 1 completed\n",
      "/var/folders/px/1fx__yfn2k74kgwgnv32tkbw0000gn/T/ipykernel_22243/2576113641.py:56: PerformanceWarning: DataFrame is highly fragmented.  This is usually the result of calling `frame.insert` many times, which has poor performance.  Consider joining all columns at once using pd.concat(axis=1) instead. To get a de-fragmented frame, use `newframe = frame.copy()`\n",
      "  analysis_data[f'{symbol}_Momentum'] = stock_data.pct_change()\n",
      "/var/folders/px/1fx__yfn2k74kgwgnv32tkbw0000gn/T/ipykernel_22243/2576113641.py:67: PerformanceWarning: DataFrame is highly fragmented.  This is usually the result of calling `frame.insert` many times, which has poor performance.  Consider joining all columns at once using pd.concat(axis=1) instead. To get a de-fragmented frame, use `newframe = frame.copy()`\n",
      "  analysis_data[f'{symbol}_Sentiment'] = sentiment_scores\n",
      "/var/folders/px/1fx__yfn2k74kgwgnv32tkbw0000gn/T/ipykernel_22243/2576113641.py:74: PerformanceWarning: DataFrame is highly fragmented.  This is usually the result of calling `frame.insert` many times, which has poor performance.  Consider joining all columns at once using pd.concat(axis=1) instead. To get a de-fragmented frame, use `newframe = frame.copy()`\n",
      "  analysis_data[f'{symbol}_Target'] = pd.cut(closing_price_change, bins=[float('-inf'), 0, float('inf')], labels=[-1, 1])\n",
      "/var/folders/px/1fx__yfn2k74kgwgnv32tkbw0000gn/T/ipykernel_22243/2576113641.py:80: PerformanceWarning: DataFrame is highly fragmented.  This is usually the result of calling `frame.insert` many times, which has poor performance.  Consider joining all columns at once using pd.concat(axis=1) instead. To get a de-fragmented frame, use `newframe = frame.copy()`\n",
      "  analysis_data[f'{symbol}_Certainty'] = (\n"
     ]
    },
    {
     "name": "stdout",
     "output_type": "stream",
     "text": [
      "BBY - Sentiment: [0.], Momentum: [ 0.00067536 -0.00649388 -0.00653614 ...  0.00089881  0.00654268\n",
      " -0.00229417]\n"
     ]
    },
    {
     "name": "stderr",
     "output_type": "stream",
     "text": [
      "[*********************100%%**********************]  1 of 1 completed\n",
      "/var/folders/px/1fx__yfn2k74kgwgnv32tkbw0000gn/T/ipykernel_22243/2576113641.py:56: PerformanceWarning: DataFrame is highly fragmented.  This is usually the result of calling `frame.insert` many times, which has poor performance.  Consider joining all columns at once using pd.concat(axis=1) instead. To get a de-fragmented frame, use `newframe = frame.copy()`\n",
      "  analysis_data[f'{symbol}_Momentum'] = stock_data.pct_change()\n",
      "/var/folders/px/1fx__yfn2k74kgwgnv32tkbw0000gn/T/ipykernel_22243/2576113641.py:67: PerformanceWarning: DataFrame is highly fragmented.  This is usually the result of calling `frame.insert` many times, which has poor performance.  Consider joining all columns at once using pd.concat(axis=1) instead. To get a de-fragmented frame, use `newframe = frame.copy()`\n",
      "  analysis_data[f'{symbol}_Sentiment'] = sentiment_scores\n",
      "/var/folders/px/1fx__yfn2k74kgwgnv32tkbw0000gn/T/ipykernel_22243/2576113641.py:74: PerformanceWarning: DataFrame is highly fragmented.  This is usually the result of calling `frame.insert` many times, which has poor performance.  Consider joining all columns at once using pd.concat(axis=1) instead. To get a de-fragmented frame, use `newframe = frame.copy()`\n",
      "  analysis_data[f'{symbol}_Target'] = pd.cut(closing_price_change, bins=[float('-inf'), 0, float('inf')], labels=[-1, 1])\n",
      "/var/folders/px/1fx__yfn2k74kgwgnv32tkbw0000gn/T/ipykernel_22243/2576113641.py:80: PerformanceWarning: DataFrame is highly fragmented.  This is usually the result of calling `frame.insert` many times, which has poor performance.  Consider joining all columns at once using pd.concat(axis=1) instead. To get a de-fragmented frame, use `newframe = frame.copy()`\n",
      "  analysis_data[f'{symbol}_Certainty'] = (\n"
     ]
    },
    {
     "name": "stdout",
     "output_type": "stream",
     "text": [
      "BIO - Sentiment: [0.], Momentum: [ 0.00075892 -0.03038674 -0.00854701 ...  0.00377015  0.00766724\n",
      " -0.00532925]\n"
     ]
    },
    {
     "name": "stderr",
     "output_type": "stream",
     "text": [
      "[*********************100%%**********************]  1 of 1 completed\n",
      "/var/folders/px/1fx__yfn2k74kgwgnv32tkbw0000gn/T/ipykernel_22243/2576113641.py:56: PerformanceWarning: DataFrame is highly fragmented.  This is usually the result of calling `frame.insert` many times, which has poor performance.  Consider joining all columns at once using pd.concat(axis=1) instead. To get a de-fragmented frame, use `newframe = frame.copy()`\n",
      "  analysis_data[f'{symbol}_Momentum'] = stock_data.pct_change()\n",
      "/var/folders/px/1fx__yfn2k74kgwgnv32tkbw0000gn/T/ipykernel_22243/2576113641.py:67: PerformanceWarning: DataFrame is highly fragmented.  This is usually the result of calling `frame.insert` many times, which has poor performance.  Consider joining all columns at once using pd.concat(axis=1) instead. To get a de-fragmented frame, use `newframe = frame.copy()`\n",
      "  analysis_data[f'{symbol}_Sentiment'] = sentiment_scores\n",
      "/var/folders/px/1fx__yfn2k74kgwgnv32tkbw0000gn/T/ipykernel_22243/2576113641.py:74: PerformanceWarning: DataFrame is highly fragmented.  This is usually the result of calling `frame.insert` many times, which has poor performance.  Consider joining all columns at once using pd.concat(axis=1) instead. To get a de-fragmented frame, use `newframe = frame.copy()`\n",
      "  analysis_data[f'{symbol}_Target'] = pd.cut(closing_price_change, bins=[float('-inf'), 0, float('inf')], labels=[-1, 1])\n",
      "/var/folders/px/1fx__yfn2k74kgwgnv32tkbw0000gn/T/ipykernel_22243/2576113641.py:80: PerformanceWarning: DataFrame is highly fragmented.  This is usually the result of calling `frame.insert` many times, which has poor performance.  Consider joining all columns at once using pd.concat(axis=1) instead. To get a de-fragmented frame, use `newframe = frame.copy()`\n",
      "  analysis_data[f'{symbol}_Certainty'] = (\n"
     ]
    },
    {
     "name": "stdout",
     "output_type": "stream",
     "text": [
      "TECH - Sentiment: [0.], Momentum: [ 0.00067286 -0.05698942 -0.01482309 ...  0.00307927  0.00051167\n",
      " -0.01355154]\n"
     ]
    },
    {
     "name": "stderr",
     "output_type": "stream",
     "text": [
      "[*********************100%%**********************]  1 of 1 completed\n",
      "/var/folders/px/1fx__yfn2k74kgwgnv32tkbw0000gn/T/ipykernel_22243/2576113641.py:56: PerformanceWarning: DataFrame is highly fragmented.  This is usually the result of calling `frame.insert` many times, which has poor performance.  Consider joining all columns at once using pd.concat(axis=1) instead. To get a de-fragmented frame, use `newframe = frame.copy()`\n",
      "  analysis_data[f'{symbol}_Momentum'] = stock_data.pct_change()\n",
      "/var/folders/px/1fx__yfn2k74kgwgnv32tkbw0000gn/T/ipykernel_22243/2576113641.py:67: PerformanceWarning: DataFrame is highly fragmented.  This is usually the result of calling `frame.insert` many times, which has poor performance.  Consider joining all columns at once using pd.concat(axis=1) instead. To get a de-fragmented frame, use `newframe = frame.copy()`\n",
      "  analysis_data[f'{symbol}_Sentiment'] = sentiment_scores\n",
      "/var/folders/px/1fx__yfn2k74kgwgnv32tkbw0000gn/T/ipykernel_22243/2576113641.py:74: PerformanceWarning: DataFrame is highly fragmented.  This is usually the result of calling `frame.insert` many times, which has poor performance.  Consider joining all columns at once using pd.concat(axis=1) instead. To get a de-fragmented frame, use `newframe = frame.copy()`\n",
      "  analysis_data[f'{symbol}_Target'] = pd.cut(closing_price_change, bins=[float('-inf'), 0, float('inf')], labels=[-1, 1])\n",
      "/var/folders/px/1fx__yfn2k74kgwgnv32tkbw0000gn/T/ipykernel_22243/2576113641.py:80: PerformanceWarning: DataFrame is highly fragmented.  This is usually the result of calling `frame.insert` many times, which has poor performance.  Consider joining all columns at once using pd.concat(axis=1) instead. To get a de-fragmented frame, use `newframe = frame.copy()`\n",
      "  analysis_data[f'{symbol}_Certainty'] = (\n"
     ]
    },
    {
     "name": "stdout",
     "output_type": "stream",
     "text": [
      "BIIB - Sentiment: [0.], Momentum: [ 0.00079128 -0.06769429  0.06973396 ...  0.00471799 -0.00515407\n",
      " -0.00694603]\n"
     ]
    },
    {
     "name": "stderr",
     "output_type": "stream",
     "text": [
      "[*********************100%%**********************]  1 of 1 completed\n",
      "/var/folders/px/1fx__yfn2k74kgwgnv32tkbw0000gn/T/ipykernel_22243/2576113641.py:56: PerformanceWarning: DataFrame is highly fragmented.  This is usually the result of calling `frame.insert` many times, which has poor performance.  Consider joining all columns at once using pd.concat(axis=1) instead. To get a de-fragmented frame, use `newframe = frame.copy()`\n",
      "  analysis_data[f'{symbol}_Momentum'] = stock_data.pct_change()\n",
      "/var/folders/px/1fx__yfn2k74kgwgnv32tkbw0000gn/T/ipykernel_22243/2576113641.py:67: PerformanceWarning: DataFrame is highly fragmented.  This is usually the result of calling `frame.insert` many times, which has poor performance.  Consider joining all columns at once using pd.concat(axis=1) instead. To get a de-fragmented frame, use `newframe = frame.copy()`\n",
      "  analysis_data[f'{symbol}_Sentiment'] = sentiment_scores\n",
      "/var/folders/px/1fx__yfn2k74kgwgnv32tkbw0000gn/T/ipykernel_22243/2576113641.py:74: PerformanceWarning: DataFrame is highly fragmented.  This is usually the result of calling `frame.insert` many times, which has poor performance.  Consider joining all columns at once using pd.concat(axis=1) instead. To get a de-fragmented frame, use `newframe = frame.copy()`\n",
      "  analysis_data[f'{symbol}_Target'] = pd.cut(closing_price_change, bins=[float('-inf'), 0, float('inf')], labels=[-1, 1])\n",
      "/var/folders/px/1fx__yfn2k74kgwgnv32tkbw0000gn/T/ipykernel_22243/2576113641.py:80: PerformanceWarning: DataFrame is highly fragmented.  This is usually the result of calling `frame.insert` many times, which has poor performance.  Consider joining all columns at once using pd.concat(axis=1) instead. To get a de-fragmented frame, use `newframe = frame.copy()`\n",
      "  analysis_data[f'{symbol}_Certainty'] = (\n"
     ]
    },
    {
     "name": "stdout",
     "output_type": "stream",
     "text": [
      "BLK - Sentiment: [0.], Momentum: [ 0.00095255 -0.04511288 -0.00787413 ...  0.008232    0.00142634\n",
      " -0.00320476]\n"
     ]
    },
    {
     "name": "stderr",
     "output_type": "stream",
     "text": [
      "[*********************100%%**********************]  1 of 1 completed\n",
      "/var/folders/px/1fx__yfn2k74kgwgnv32tkbw0000gn/T/ipykernel_22243/2576113641.py:56: PerformanceWarning: DataFrame is highly fragmented.  This is usually the result of calling `frame.insert` many times, which has poor performance.  Consider joining all columns at once using pd.concat(axis=1) instead. To get a de-fragmented frame, use `newframe = frame.copy()`\n",
      "  analysis_data[f'{symbol}_Momentum'] = stock_data.pct_change()\n",
      "/var/folders/px/1fx__yfn2k74kgwgnv32tkbw0000gn/T/ipykernel_22243/2576113641.py:67: PerformanceWarning: DataFrame is highly fragmented.  This is usually the result of calling `frame.insert` many times, which has poor performance.  Consider joining all columns at once using pd.concat(axis=1) instead. To get a de-fragmented frame, use `newframe = frame.copy()`\n",
      "  analysis_data[f'{symbol}_Sentiment'] = sentiment_scores\n",
      "/var/folders/px/1fx__yfn2k74kgwgnv32tkbw0000gn/T/ipykernel_22243/2576113641.py:74: PerformanceWarning: DataFrame is highly fragmented.  This is usually the result of calling `frame.insert` many times, which has poor performance.  Consider joining all columns at once using pd.concat(axis=1) instead. To get a de-fragmented frame, use `newframe = frame.copy()`\n",
      "  analysis_data[f'{symbol}_Target'] = pd.cut(closing_price_change, bins=[float('-inf'), 0, float('inf')], labels=[-1, 1])\n",
      "/var/folders/px/1fx__yfn2k74kgwgnv32tkbw0000gn/T/ipykernel_22243/2576113641.py:80: PerformanceWarning: DataFrame is highly fragmented.  This is usually the result of calling `frame.insert` many times, which has poor performance.  Consider joining all columns at once using pd.concat(axis=1) instead. To get a de-fragmented frame, use `newframe = frame.copy()`\n",
      "  analysis_data[f'{symbol}_Certainty'] = (\n"
     ]
    },
    {
     "name": "stdout",
     "output_type": "stream",
     "text": [
      "BX - Sentiment: [0.], Momentum: [ 0.00094443 -0.07472884 -0.05209631 ...  0.0094391   0.00392127\n",
      " -0.0166004 ]\n"
     ]
    },
    {
     "name": "stderr",
     "output_type": "stream",
     "text": [
      "[*********************100%%**********************]  1 of 1 completed\n",
      "/var/folders/px/1fx__yfn2k74kgwgnv32tkbw0000gn/T/ipykernel_22243/2576113641.py:56: PerformanceWarning: DataFrame is highly fragmented.  This is usually the result of calling `frame.insert` many times, which has poor performance.  Consider joining all columns at once using pd.concat(axis=1) instead. To get a de-fragmented frame, use `newframe = frame.copy()`\n",
      "  analysis_data[f'{symbol}_Momentum'] = stock_data.pct_change()\n",
      "/var/folders/px/1fx__yfn2k74kgwgnv32tkbw0000gn/T/ipykernel_22243/2576113641.py:67: PerformanceWarning: DataFrame is highly fragmented.  This is usually the result of calling `frame.insert` many times, which has poor performance.  Consider joining all columns at once using pd.concat(axis=1) instead. To get a de-fragmented frame, use `newframe = frame.copy()`\n",
      "  analysis_data[f'{symbol}_Sentiment'] = sentiment_scores\n",
      "/var/folders/px/1fx__yfn2k74kgwgnv32tkbw0000gn/T/ipykernel_22243/2576113641.py:74: PerformanceWarning: DataFrame is highly fragmented.  This is usually the result of calling `frame.insert` many times, which has poor performance.  Consider joining all columns at once using pd.concat(axis=1) instead. To get a de-fragmented frame, use `newframe = frame.copy()`\n",
      "  analysis_data[f'{symbol}_Target'] = pd.cut(closing_price_change, bins=[float('-inf'), 0, float('inf')], labels=[-1, 1])\n",
      "/var/folders/px/1fx__yfn2k74kgwgnv32tkbw0000gn/T/ipykernel_22243/2576113641.py:80: PerformanceWarning: DataFrame is highly fragmented.  This is usually the result of calling `frame.insert` many times, which has poor performance.  Consider joining all columns at once using pd.concat(axis=1) instead. To get a de-fragmented frame, use `newframe = frame.copy()`\n",
      "  analysis_data[f'{symbol}_Certainty'] = (\n"
     ]
    },
    {
     "name": "stdout",
     "output_type": "stream",
     "text": [
      "BA - Sentiment: [0.], Momentum: [ 0.00062849 -0.00155542  0.06230536 ... -0.00262568 -0.00667684\n",
      "  0.0011907 ]\n"
     ]
    },
    {
     "name": "stderr",
     "output_type": "stream",
     "text": [
      "[*********************100%%**********************]  1 of 1 completed\n",
      "/var/folders/px/1fx__yfn2k74kgwgnv32tkbw0000gn/T/ipykernel_22243/2576113641.py:56: PerformanceWarning: DataFrame is highly fragmented.  This is usually the result of calling `frame.insert` many times, which has poor performance.  Consider joining all columns at once using pd.concat(axis=1) instead. To get a de-fragmented frame, use `newframe = frame.copy()`\n",
      "  analysis_data[f'{symbol}_Momentum'] = stock_data.pct_change()\n",
      "/var/folders/px/1fx__yfn2k74kgwgnv32tkbw0000gn/T/ipykernel_22243/2576113641.py:67: PerformanceWarning: DataFrame is highly fragmented.  This is usually the result of calling `frame.insert` many times, which has poor performance.  Consider joining all columns at once using pd.concat(axis=1) instead. To get a de-fragmented frame, use `newframe = frame.copy()`\n",
      "  analysis_data[f'{symbol}_Sentiment'] = sentiment_scores\n",
      "/var/folders/px/1fx__yfn2k74kgwgnv32tkbw0000gn/T/ipykernel_22243/2576113641.py:74: PerformanceWarning: DataFrame is highly fragmented.  This is usually the result of calling `frame.insert` many times, which has poor performance.  Consider joining all columns at once using pd.concat(axis=1) instead. To get a de-fragmented frame, use `newframe = frame.copy()`\n",
      "  analysis_data[f'{symbol}_Target'] = pd.cut(closing_price_change, bins=[float('-inf'), 0, float('inf')], labels=[-1, 1])\n",
      "/var/folders/px/1fx__yfn2k74kgwgnv32tkbw0000gn/T/ipykernel_22243/2576113641.py:80: PerformanceWarning: DataFrame is highly fragmented.  This is usually the result of calling `frame.insert` many times, which has poor performance.  Consider joining all columns at once using pd.concat(axis=1) instead. To get a de-fragmented frame, use `newframe = frame.copy()`\n",
      "  analysis_data[f'{symbol}_Certainty'] = (\n"
     ]
    },
    {
     "name": "stdout",
     "output_type": "stream",
     "text": [
      "BKNG - Sentiment: [0.], Momentum: [ 0.00111317  0.05365854  0.1099537  ... -0.00897481  0.00447855\n",
      " -0.00091537]\n"
     ]
    },
    {
     "name": "stderr",
     "output_type": "stream",
     "text": [
      "[*********************100%%**********************]  1 of 1 completed\n",
      "/var/folders/px/1fx__yfn2k74kgwgnv32tkbw0000gn/T/ipykernel_22243/2576113641.py:56: PerformanceWarning: DataFrame is highly fragmented.  This is usually the result of calling `frame.insert` many times, which has poor performance.  Consider joining all columns at once using pd.concat(axis=1) instead. To get a de-fragmented frame, use `newframe = frame.copy()`\n",
      "  analysis_data[f'{symbol}_Momentum'] = stock_data.pct_change()\n",
      "/var/folders/px/1fx__yfn2k74kgwgnv32tkbw0000gn/T/ipykernel_22243/2576113641.py:67: PerformanceWarning: DataFrame is highly fragmented.  This is usually the result of calling `frame.insert` many times, which has poor performance.  Consider joining all columns at once using pd.concat(axis=1) instead. To get a de-fragmented frame, use `newframe = frame.copy()`\n",
      "  analysis_data[f'{symbol}_Sentiment'] = sentiment_scores\n",
      "/var/folders/px/1fx__yfn2k74kgwgnv32tkbw0000gn/T/ipykernel_22243/2576113641.py:74: PerformanceWarning: DataFrame is highly fragmented.  This is usually the result of calling `frame.insert` many times, which has poor performance.  Consider joining all columns at once using pd.concat(axis=1) instead. To get a de-fragmented frame, use `newframe = frame.copy()`\n",
      "  analysis_data[f'{symbol}_Target'] = pd.cut(closing_price_change, bins=[float('-inf'), 0, float('inf')], labels=[-1, 1])\n",
      "/var/folders/px/1fx__yfn2k74kgwgnv32tkbw0000gn/T/ipykernel_22243/2576113641.py:80: PerformanceWarning: DataFrame is highly fragmented.  This is usually the result of calling `frame.insert` many times, which has poor performance.  Consider joining all columns at once using pd.concat(axis=1) instead. To get a de-fragmented frame, use `newframe = frame.copy()`\n",
      "  analysis_data[f'{symbol}_Certainty'] = (\n"
     ]
    },
    {
     "name": "stdout",
     "output_type": "stream",
     "text": [
      "BWA - Sentiment: [0.], Momentum: [ 0.00066495  0.          0.00484642 ... -0.00444444  0.00418531\n",
      " -0.00389006]\n"
     ]
    },
    {
     "name": "stderr",
     "output_type": "stream",
     "text": [
      "[*********************100%%**********************]  1 of 1 completed\n",
      "/var/folders/px/1fx__yfn2k74kgwgnv32tkbw0000gn/T/ipykernel_22243/2576113641.py:56: PerformanceWarning: DataFrame is highly fragmented.  This is usually the result of calling `frame.insert` many times, which has poor performance.  Consider joining all columns at once using pd.concat(axis=1) instead. To get a de-fragmented frame, use `newframe = frame.copy()`\n",
      "  analysis_data[f'{symbol}_Momentum'] = stock_data.pct_change()\n",
      "/var/folders/px/1fx__yfn2k74kgwgnv32tkbw0000gn/T/ipykernel_22243/2576113641.py:67: PerformanceWarning: DataFrame is highly fragmented.  This is usually the result of calling `frame.insert` many times, which has poor performance.  Consider joining all columns at once using pd.concat(axis=1) instead. To get a de-fragmented frame, use `newframe = frame.copy()`\n",
      "  analysis_data[f'{symbol}_Sentiment'] = sentiment_scores\n",
      "/var/folders/px/1fx__yfn2k74kgwgnv32tkbw0000gn/T/ipykernel_22243/2576113641.py:74: PerformanceWarning: DataFrame is highly fragmented.  This is usually the result of calling `frame.insert` many times, which has poor performance.  Consider joining all columns at once using pd.concat(axis=1) instead. To get a de-fragmented frame, use `newframe = frame.copy()`\n",
      "  analysis_data[f'{symbol}_Target'] = pd.cut(closing_price_change, bins=[float('-inf'), 0, float('inf')], labels=[-1, 1])\n",
      "/var/folders/px/1fx__yfn2k74kgwgnv32tkbw0000gn/T/ipykernel_22243/2576113641.py:80: PerformanceWarning: DataFrame is highly fragmented.  This is usually the result of calling `frame.insert` many times, which has poor performance.  Consider joining all columns at once using pd.concat(axis=1) instead. To get a de-fragmented frame, use `newframe = frame.copy()`\n",
      "  analysis_data[f'{symbol}_Certainty'] = (\n"
     ]
    },
    {
     "name": "stdout",
     "output_type": "stream",
     "text": [
      "BXP - Sentiment: [0.], Momentum: [ 0.0005316  -0.01629329  0.00828158 ... -0.00457954  0.01696109\n",
      " -0.02473939]\n"
     ]
    },
    {
     "name": "stderr",
     "output_type": "stream",
     "text": [
      "[*********************100%%**********************]  1 of 1 completed\n",
      "/var/folders/px/1fx__yfn2k74kgwgnv32tkbw0000gn/T/ipykernel_22243/2576113641.py:56: PerformanceWarning: DataFrame is highly fragmented.  This is usually the result of calling `frame.insert` many times, which has poor performance.  Consider joining all columns at once using pd.concat(axis=1) instead. To get a de-fragmented frame, use `newframe = frame.copy()`\n",
      "  analysis_data[f'{symbol}_Momentum'] = stock_data.pct_change()\n",
      "/var/folders/px/1fx__yfn2k74kgwgnv32tkbw0000gn/T/ipykernel_22243/2576113641.py:67: PerformanceWarning: DataFrame is highly fragmented.  This is usually the result of calling `frame.insert` many times, which has poor performance.  Consider joining all columns at once using pd.concat(axis=1) instead. To get a de-fragmented frame, use `newframe = frame.copy()`\n",
      "  analysis_data[f'{symbol}_Sentiment'] = sentiment_scores\n",
      "/var/folders/px/1fx__yfn2k74kgwgnv32tkbw0000gn/T/ipykernel_22243/2576113641.py:74: PerformanceWarning: DataFrame is highly fragmented.  This is usually the result of calling `frame.insert` many times, which has poor performance.  Consider joining all columns at once using pd.concat(axis=1) instead. To get a de-fragmented frame, use `newframe = frame.copy()`\n",
      "  analysis_data[f'{symbol}_Target'] = pd.cut(closing_price_change, bins=[float('-inf'), 0, float('inf')], labels=[-1, 1])\n",
      "/var/folders/px/1fx__yfn2k74kgwgnv32tkbw0000gn/T/ipykernel_22243/2576113641.py:80: PerformanceWarning: DataFrame is highly fragmented.  This is usually the result of calling `frame.insert` many times, which has poor performance.  Consider joining all columns at once using pd.concat(axis=1) instead. To get a de-fragmented frame, use `newframe = frame.copy()`\n",
      "  analysis_data[f'{symbol}_Certainty'] = (\n"
     ]
    },
    {
     "name": "stdout",
     "output_type": "stream",
     "text": [
      "BSX - Sentiment: [0.], Momentum: [0.00051665 0.01630435 0.07219251 ... 0.00053579 0.00464117 0.02718555]\n"
     ]
    },
    {
     "name": "stderr",
     "output_type": "stream",
     "text": [
      "[*********************100%%**********************]  1 of 1 completed\n",
      "/var/folders/px/1fx__yfn2k74kgwgnv32tkbw0000gn/T/ipykernel_22243/2576113641.py:56: PerformanceWarning: DataFrame is highly fragmented.  This is usually the result of calling `frame.insert` many times, which has poor performance.  Consider joining all columns at once using pd.concat(axis=1) instead. To get a de-fragmented frame, use `newframe = frame.copy()`\n",
      "  analysis_data[f'{symbol}_Momentum'] = stock_data.pct_change()\n",
      "/var/folders/px/1fx__yfn2k74kgwgnv32tkbw0000gn/T/ipykernel_22243/2576113641.py:67: PerformanceWarning: DataFrame is highly fragmented.  This is usually the result of calling `frame.insert` many times, which has poor performance.  Consider joining all columns at once using pd.concat(axis=1) instead. To get a de-fragmented frame, use `newframe = frame.copy()`\n",
      "  analysis_data[f'{symbol}_Sentiment'] = sentiment_scores\n",
      "/var/folders/px/1fx__yfn2k74kgwgnv32tkbw0000gn/T/ipykernel_22243/2576113641.py:74: PerformanceWarning: DataFrame is highly fragmented.  This is usually the result of calling `frame.insert` many times, which has poor performance.  Consider joining all columns at once using pd.concat(axis=1) instead. To get a de-fragmented frame, use `newframe = frame.copy()`\n",
      "  analysis_data[f'{symbol}_Target'] = pd.cut(closing_price_change, bins=[float('-inf'), 0, float('inf')], labels=[-1, 1])\n",
      "/var/folders/px/1fx__yfn2k74kgwgnv32tkbw0000gn/T/ipykernel_22243/2576113641.py:80: PerformanceWarning: DataFrame is highly fragmented.  This is usually the result of calling `frame.insert` many times, which has poor performance.  Consider joining all columns at once using pd.concat(axis=1) instead. To get a de-fragmented frame, use `newframe = frame.copy()`\n",
      "  analysis_data[f'{symbol}_Certainty'] = (\n"
     ]
    },
    {
     "name": "stdout",
     "output_type": "stream",
     "text": [
      "BMY - Sentiment: [0.], Momentum: [ 0.00026142 -0.07565463 -0.00640651 ... -0.00466474  0.00019525\n",
      "  0.00175718]\n"
     ]
    },
    {
     "name": "stderr",
     "output_type": "stream",
     "text": [
      "[*********************100%%**********************]  1 of 1 completed\n",
      "/var/folders/px/1fx__yfn2k74kgwgnv32tkbw0000gn/T/ipykernel_22243/2576113641.py:56: PerformanceWarning: DataFrame is highly fragmented.  This is usually the result of calling `frame.insert` many times, which has poor performance.  Consider joining all columns at once using pd.concat(axis=1) instead. To get a de-fragmented frame, use `newframe = frame.copy()`\n",
      "  analysis_data[f'{symbol}_Momentum'] = stock_data.pct_change()\n",
      "/var/folders/px/1fx__yfn2k74kgwgnv32tkbw0000gn/T/ipykernel_22243/2576113641.py:67: PerformanceWarning: DataFrame is highly fragmented.  This is usually the result of calling `frame.insert` many times, which has poor performance.  Consider joining all columns at once using pd.concat(axis=1) instead. To get a de-fragmented frame, use `newframe = frame.copy()`\n",
      "  analysis_data[f'{symbol}_Sentiment'] = sentiment_scores\n",
      "/var/folders/px/1fx__yfn2k74kgwgnv32tkbw0000gn/T/ipykernel_22243/2576113641.py:74: PerformanceWarning: DataFrame is highly fragmented.  This is usually the result of calling `frame.insert` many times, which has poor performance.  Consider joining all columns at once using pd.concat(axis=1) instead. To get a de-fragmented frame, use `newframe = frame.copy()`\n",
      "  analysis_data[f'{symbol}_Target'] = pd.cut(closing_price_change, bins=[float('-inf'), 0, float('inf')], labels=[-1, 1])\n",
      "/var/folders/px/1fx__yfn2k74kgwgnv32tkbw0000gn/T/ipykernel_22243/2576113641.py:80: PerformanceWarning: DataFrame is highly fragmented.  This is usually the result of calling `frame.insert` many times, which has poor performance.  Consider joining all columns at once using pd.concat(axis=1) instead. To get a de-fragmented frame, use `newframe = frame.copy()`\n",
      "  analysis_data[f'{symbol}_Certainty'] = (\n"
     ]
    },
    {
     "name": "stdout",
     "output_type": "stream",
     "text": [
      "AVGO - Sentiment: [0.], Momentum: [ 0.00150542  0.01545153 -0.02799759 ... -0.00505347 -0.00333876\n",
      " -0.00548822]\n"
     ]
    },
    {
     "name": "stderr",
     "output_type": "stream",
     "text": [
      "[*********************100%%**********************]  1 of 1 completed"
     ]
    }
   ],
   "source": [
    "import requests\n",
    "from bs4 import BeautifulSoup\n",
    "import nltk\n",
    "nltk.download('vader_lexicon')\n",
    "import pandas as pd\n",
    "from sklearn.ensemble import RandomForestClassifier\n",
    "from sklearn.model_selection import train_test_split\n",
    "from sklearn.metrics import accuracy_score, classification_report\n",
    "from nltk.sentiment.vader import SentimentIntensityAnalyzer\n",
    "import yfinance as yf\n",
    "\n",
    "# Function to get historical stock data\n",
    "def get_stock_data(symbol, start_date, end_date):\n",
    "    stock = yf.download(symbol, start=start_date, end=end_date)\n",
    "    return stock['Adj Close']\n",
    "\n",
    "# Function to scrape S&P 500 companies and their symbols from Wikipedia\n",
    "def get_sp500_companies():\n",
    "    url = 'https://en.wikipedia.org/wiki/List_of_S%26P_500_companies'\n",
    "    response = requests.get(url)\n",
    "    soup = BeautifulSoup(response.text, 'html.parser')\n",
    "    table = soup.find('table', {'class': 'wikitable'})\n",
    "    \n",
    "    companies = []\n",
    "    for row in table.find_all('tr')[1:]:\n",
    "        columns = row.find_all('td')\n",
    "        symbol = columns[0].text.strip()\n",
    "        name = columns[1].text.strip()\n",
    "        companies.append({'Symbol': symbol, 'Company_Name': name})\n",
    "\n",
    "    return companies\n",
    "\n",
    "# Sample data - replace this with actual S&P500 company symbols and names\n",
    "s_and_p_500_data = get_sp500_companies()[:100]  # Limiting to the first 100 companies\n",
    "\n",
    "# Sort companies alphabetically\n",
    "s_and_p_500_data.sort(key=lambda x: x['Company_Name'])\n",
    "\n",
    "# Define the date range for historical stock data\n",
    "start_date = '2000-01-01'\n",
    "end_date = '2024-01-01'\n",
    "\n",
    "# Initialize a DataFrame for the analysis\n",
    "analysis_data = pd.DataFrame(index=pd.date_range(start_date, end_date))\n",
    "\n",
    "\n",
    "# Iterate through S&P500 symbols\n",
    "for i in range(len(s_and_p_500_data)):\n",
    "    symbol = s_and_p_500_data[i]['Symbol']\n",
    "    company_name = s_and_p_500_data[i]['Company_Name']\n",
    "\n",
    "    # Get historical stock data\n",
    "    stock_data = get_stock_data(symbol, start_date, end_date)\n",
    "\n",
    "    # Calculate daily percentage change for momentum\n",
    "    analysis_data[f'{symbol}_Momentum'] = stock_data.pct_change()\n",
    "\n",
    "    # Handle NaN values in momentum by replacing them with the mean\n",
    "    mean_momentum = analysis_data[f'{symbol}_Momentum'].mean()\n",
    "    analysis_data[f'{symbol}_Momentum'] = analysis_data[f'{symbol}_Momentum'].fillna(mean_momentum)\n",
    "\n",
    "    # Sentiment Analysis using NLTK's VaderSentiment\n",
    "    sid = SentimentIntensityAnalyzer()\n",
    "    sentiment_scores = [sid.polarity_scores('Sample news')['compound'] for _ in range(len(analysis_data))]\n",
    "\n",
    "    # Add sentiment scores to the DataFrame\n",
    "    analysis_data[f'{symbol}_Sentiment'] = sentiment_scores\n",
    "\n",
    "    # Print sentiment and momentum scores\n",
    "    print(f\"{symbol} - Sentiment: {analysis_data[f'{symbol}_Sentiment'].unique()}, Momentum: {analysis_data[f'{symbol}_Momentum'].unique()}\")\n",
    "\n",
    "    # Define the target variable based on closing price change\n",
    "    closing_price_change = stock_data.diff().dropna()  # Calculate difference between consecutive days\n",
    "    analysis_data[f'{symbol}_Target'] = pd.cut(closing_price_change, bins=[float('-inf'), 0, float('inf')], labels=[-1, 1])\n",
    "\n",
    "    # Convert the categorical variable to numeric\n",
    "    analysis_data[f'{symbol}_Target'] = pd.to_numeric(analysis_data[f'{symbol}_Target'], errors='coerce')\n",
    "\n",
    "    # Calculate the percentage of certainty for each decision\n",
    "    analysis_data[f'{symbol}_Certainty'] = (\n",
    "        analysis_data[f'{symbol}_Sentiment'] * analysis_data[f'{symbol}_Momentum']\n",
    "    ).fillna(0)  # Replace NaN values with 0 for simplicity\n",
    "\n",
    "# Combine sentiment, momentum, and certainty into a single DataFrame (analysis_data)\n",
    "for i in range(len(s_and_p_500_data)):\n",
    "    symbol = s_and_p_500_data[i]['Symbol']\n",
    "    stock_data = yf.download(symbol, start=start_date, end=end_date)\n",
    "    \n",
    "    # Calculate Sentiment and Momentum\n",
    "    sentiment = calculate_sentiment(stock_data)\n",
    "    momentum = calculate_momentum(stock_data)\n",
    "\n",
    "    # Add Sentiment and Momentum to the analysis_data DataFrame\n",
    "    analysis_data[f'{symbol}_Sentiment'] = sentiment\n",
    "    analysis_data[f'{symbol}_Momentum'] = momentum\n",
    "\n",
    "    # Define the target variable based on closing price change\n",
    "    closing_price_change = stock_data.iloc[-1]['Close'] - stock_data.iloc[0]['Close']\n",
    "    analysis_data[f'{symbol}_Target'] = pd.cut(closing_price_change, bins=[float('-inf'), 0, float('inf')], labels=[-1, 1])\n",
    "\n",
    "    # Calculate Certainty\n",
    "    analysis_data[f'{symbol}_Certainty'] = (\n",
    "        analysis_data[f'{symbol}_Sentiment'] * analysis_data[f'{symbol}_Momentum']\n",
    "    ).fillna(0)  # Replace NaN values with 0 for simplicity\n",
    "\n",
    "# Combine company symbols, targets, and certainties into a single DataFrame\n",
    "target_data = pd.DataFrame({\n",
    "    'Symbol': [s_and_p_500_data[i]['Symbol'] for i in range(len(s_and_p_500_data))],\n",
    "    'Decision': [int(pd.to_numeric(analysis_data[f\"{s_and_p_500_data[i]['Symbol']}_Target\"]).fillna(0).iloc[-1]) for i in range(len(s_and_p_500_data))],\n",
    "    'Certainty': [analysis_data[f\"{s_and_p_500_data[i]['Symbol']}_Certainty\"].iloc[-1] for i in range(len(s_and_p_500_data))]\n",
    "})\n",
    "\n",
    "# Display or export the target_data DataFrame with decisions and certainties\n",
    "print(target_data)\n",
    "\n",
    "# Save the combined DataFrame to an Excel file\n",
    "excel_file_path = 'stock_analysis_results.xlsx'\n",
    "target_data.to_excel(excel_file_path, index=True)\n",
    "print(f\"Excel file created: {excel_file_path}\")\n"
   ]
  },
  {
   "cell_type": "code",
   "execution_count": null,
   "id": "3477875e-b250-4073-86ac-0898c98596bd",
   "metadata": {},
   "outputs": [],
   "source": []
  }
 ],
 "metadata": {
  "kernelspec": {
   "display_name": "Python 3 (ipykernel)",
   "language": "python",
   "name": "python3"
  },
  "language_info": {
   "codemirror_mode": {
    "name": "ipython",
    "version": 3
   },
   "file_extension": ".py",
   "mimetype": "text/x-python",
   "name": "python",
   "nbconvert_exporter": "python",
   "pygments_lexer": "ipython3",
   "version": "3.11.5"
  }
 },
 "nbformat": 4,
 "nbformat_minor": 5
}
